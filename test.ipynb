{
 "cells": [
  {
   "cell_type": "code",
   "execution_count": 1,
   "metadata": {},
   "outputs": [],
   "source": [
    "import torch\n",
    "from chadhmm.hmm import MultinomialHMM, GaussianHMM, GaussianMixtureHMM, PoissonHMM\n",
    "from chadhmm.utilities import constraints"
   ]
  },
  {
   "cell_type": "code",
   "execution_count": 8,
   "metadata": {},
   "outputs": [
    {
     "name": "stdout",
     "output_type": "stream",
     "text": [
      "Run 1 | Initialization | Score: -1430.48\n",
      "Run 1 | Iteration: 1 | Score: -1386.13 | Delta: 44.35 | Converged = False\n",
      "Run 1 | Iteration: 2 | Score: -1385.63 | Delta: 0.50 | Converged = False\n",
      "Run 1 | Iteration: 3 | Score: -1385.25 | Delta: 0.38 | Converged = False\n",
      "Run 1 | Iteration: 4 | Score: -1384.95 | Delta: 0.31 | Converged = False\n",
      "Run 1 | Iteration: 5 | Score: -1384.69 | Delta: 0.26 | Converged = False\n",
      "Run 1 | Iteration: 6 | Score: -1384.47 | Delta: 0.22 | Converged = False\n",
      "Run 1 | Iteration: 7 | Score: -1384.28 | Delta: 0.19 | Converged = False\n",
      "Run 1 | Iteration: 8 | Score: -1384.11 | Delta: 0.17 | Converged = False\n",
      "Run 1 | Iteration: 9 | Score: -1383.97 | Delta: 0.15 | Converged = False\n",
      "Run 1 | Iteration: 10 | Score: -1383.83 | Delta: 0.13 | Converged = False\n"
     ]
    },
    {
     "data": {
      "text/plain": [
       "MultinomialHMM(\n",
       "  (_params): ParameterDict(\n",
       "      (A): Object of type: Categorical\n",
       "      (emission_pdf): Object of type: Multinomial\n",
       "      (pi): Object of type: Categorical\n",
       "  )\n",
       ")"
      ]
     },
     "execution_count": 8,
     "metadata": {},
     "output_type": "execute_result"
    }
   ],
   "source": [
    "hmm = MultinomialHMM(n_states=6,\n",
    "                     n_features=4,\n",
    "                     n_trials=1,\n",
    "                     transitions=constraints.Transitions.ERGODIC)\n",
    "train_seq = torch.randint(0,hmm.n_features,(1000,))\n",
    "one_hot = hmm.n_trials * torch.nn.functional.one_hot(train_seq,4)\n",
    "hmm.fit(X=one_hot,max_iter=10,n_init=1,verbose=True)"
   ]
  },
  {
   "cell_type": "code",
   "execution_count": 16,
   "metadata": {},
   "outputs": [
    {
     "name": "stdout",
     "output_type": "stream",
     "text": [
      "Run 1 | Initialization | Score: -2169.01\n",
      "Run 1 | Iteration: 1 | Score: -296.61 | Delta: 1872.40 | Converged = False\n",
      "Run 1 | Iteration: 2 | Score: -296.60 | Delta: 0.00 | Converged = False\n",
      "Model converged after 3 iterations with log-likelihood: -296.60\n"
     ]
    },
    {
     "data": {
      "text/plain": [
       "GaussianHMM(\n",
       "  (_params): ParameterDict(\n",
       "      (A): Object of type: Categorical\n",
       "      (emission_pdf): Object of type: MultivariateNormal\n",
       "      (pi): Object of type: Categorical\n",
       "  )\n",
       ")"
      ]
     },
     "execution_count": 16,
     "metadata": {},
     "output_type": "execute_result"
    }
   ],
   "source": [
    "gmm = GaussianHMM(n_states=2,n_features=2)\n",
    "train_seq = torch.rand((1000,2), dtype=torch.float64)\n",
    "gmm.fit(X=train_seq,max_iter=5, n_init=1, verbose=True)"
   ]
  },
  {
   "cell_type": "code",
   "execution_count": 22,
   "metadata": {},
   "outputs": [
    {
     "name": "stdout",
     "output_type": "stream",
     "text": [
      "Run 1 | Initialization | Score: -30488.62\n",
      "Run 1 | Iteration: 1 | Score: -2371.31 | Delta: 28117.31 | Converged = False\n",
      "Run 1 | Iteration: 2 | Score: -2307.06 | Delta: 64.25 | Converged = False\n",
      "Run 1 | Iteration: 3 | Score: -1800.05 | Delta: 507.01 | Converged = False\n",
      "Run 1 | Iteration: 4 | Score: -1706.48 | Delta: 93.57 | Converged = False\n",
      "Run 1 | Iteration: 5 | Score: -1693.64 | Delta: 12.84 | Converged = False\n",
      "Run 1 | Iteration: 6 | Score: -1693.45 | Delta: 0.19 | Converged = False\n",
      "Run 1 | Iteration: 7 | Score: -1693.43 | Delta: 0.02 | Converged = False\n",
      "Run 1 | Iteration: 8 | Score: -1693.43 | Delta: 0.00 | Converged = False\n",
      "Model converged after 9 iterations with log-likelihood: -1693.43\n"
     ]
    },
    {
     "data": {
      "text/plain": [
       "PoissonHMM(\n",
       "  (_params): ParameterDict(\n",
       "      (A): Object of type: Categorical\n",
       "      (emission_pdf): Object of type: Independent\n",
       "      (pi): Object of type: Categorical\n",
       "  )\n",
       ")"
      ]
     },
     "execution_count": 22,
     "metadata": {},
     "output_type": "execute_result"
    }
   ],
   "source": [
    "phmm = PoissonHMM(n_states=2,n_features=2)\n",
    "train_seq = torch.randint(1,100,(100,2))\n",
    "phmm.fit(X=train_seq,max_iter=15,lengths=[50,50],n_init=1,verbose=True)"
   ]
  },
  {
   "cell_type": "code",
   "execution_count": 27,
   "metadata": {},
   "outputs": [
    {
     "name": "stdout",
     "output_type": "stream",
     "text": [
      "Run 1 | Initialization | Score: -3245.11\n",
      "Run 1 | Iteration: 1 | Score: -531.26 | Delta: 2713.86 | Converged = False\n",
      "Run 1 | Iteration: 2 | Score: -531.22 | Delta: 0.04 | Converged = False\n",
      "Run 1 | Iteration: 3 | Score: -531.12 | Delta: 0.10 | Converged = False\n",
      "Run 1 | Iteration: 4 | Score: -530.85 | Delta: 0.27 | Converged = False\n",
      "Run 1 | Iteration: 5 | Score: -530.11 | Delta: 0.74 | Converged = False\n",
      "Run 1 | Iteration: 6 | Score: -528.76 | Delta: 1.36 | Converged = False\n",
      "Run 1 | Iteration: 7 | Score: -530.59 | Delta: -1.83 | Converged = False\n",
      "Model converged after 8 iterations with log-likelihood: -525.41\n"
     ]
    },
    {
     "data": {
      "text/plain": [
       "GaussianMixtureHMM(\n",
       "  (_params): ParameterDict(\n",
       "      (A): Object of type: Categorical\n",
       "      (emission_pdf): Object of type: MixtureSameFamily\n",
       "      (pi): Object of type: Categorical\n",
       "  )\n",
       ")"
      ]
     },
     "execution_count": 27,
     "metadata": {},
     "output_type": "execute_result"
    }
   ],
   "source": [
    "gmmm = GaussianMixtureHMM(n_states=4,n_components=3,n_features=3)\n",
    "train_seq = torch.rand((1000,3),dtype=torch.float64)\n",
    "gmmm.fit(X=train_seq,max_iter=15, n_init=1, verbose=True)"
   ]
  },
  {
   "cell_type": "code",
   "execution_count": null,
   "metadata": {},
   "outputs": [],
   "source": [
    "import torch\n",
    "from chadhmm.hsmm import CategoricalHSMM, GaussianHSMM, GaussianMixtureHSMM, PoissonHSMM"
   ]
  },
  {
   "cell_type": "code",
   "execution_count": null,
   "metadata": {},
   "outputs": [],
   "source": [
    "hsmm = CategoricalHSMM(n_states=5,\n",
    "                       n_features=4,\n",
    "                       max_duration=4)\n",
    "train_seq = torch.randint(0, 4, (100,))\n",
    "hsmm.fit(X=train_seq,max_iter=15, n_init=1)"
   ]
  },
  {
   "cell_type": "code",
   "execution_count": null,
   "metadata": {},
   "outputs": [],
   "source": [
    "print(f'pi {hsmm.params.pi.exp().sum()}\\n'+\n",
    "      f'A  {hsmm.params.A.exp().sum(1)}\\n' +\n",
    "      f'D  {hsmm.params.D.exp().sum(1)}\\n' +\n",
    "      f'B  {hsmm.params.B.exp().sum(1)}')"
   ]
  },
  {
   "cell_type": "code",
   "execution_count": null,
   "metadata": {},
   "outputs": [],
   "source": [
    "ghsmm = GaussianHSMM(n_states=5,\n",
    "                  n_features=3,\n",
    "                  max_duration=4)\n",
    "train_seq = torch.rand((100,3), dtype=torch.float64)\n",
    "ghsmm.fit(X=train_seq,max_iter=15, n_init=1, verbose=False)"
   ]
  },
  {
   "cell_type": "code",
   "execution_count": null,
   "metadata": {},
   "outputs": [],
   "source": [
    "gmhsmm = GaussianMixtureHSMM(n_states=4,\n",
    "                         n_components=3,\n",
    "                         max_duration=4,\n",
    "                         n_features=3)\n",
    "train_seq = torch.rand((100,3),dtype=torch.float64)\n",
    "gmhsmm.fit(X=train_seq,max_iter=15, n_init=1, verbose=False)"
   ]
  },
  {
   "cell_type": "code",
   "execution_count": null,
   "metadata": {},
   "outputs": [],
   "source": [
    "import torch\n",
    "import torch.nn as nn\n",
    "from torch.distributions import Categorical, Multinomial\n",
    "\n",
    "Multinomial(2,probs=torch.Tensor([0.2,0.8]))"
   ]
  },
  {
   "cell_type": "code",
   "execution_count": null,
   "metadata": {},
   "outputs": [],
   "source": [
    "m = Multinomial(1,logits=hmm.pdf.logits)\n",
    "m.log_prob(torch.Tensor([0,0,0,1])).exp()"
   ]
  },
  {
   "cell_type": "code",
   "execution_count": null,
   "metadata": {},
   "outputs": [],
   "source": [
    "hmm.pdf.log_prob(train_seq[4])"
   ]
  },
  {
   "cell_type": "code",
   "execution_count": null,
   "metadata": {},
   "outputs": [],
   "source": []
  }
 ],
 "metadata": {
  "kernelspec": {
   "display_name": "Python 3",
   "language": "python",
   "name": "python3"
  },
  "language_info": {
   "codemirror_mode": {
    "name": "ipython",
    "version": 3
   },
   "file_extension": ".py",
   "mimetype": "text/x-python",
   "name": "python",
   "nbconvert_exporter": "python",
   "pygments_lexer": "ipython3",
   "version": "3.11.7"
  }
 },
 "nbformat": 4,
 "nbformat_minor": 2
}
