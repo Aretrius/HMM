{
 "cells": [
  {
   "cell_type": "code",
   "execution_count": 1,
   "metadata": {},
   "outputs": [],
   "source": [
    "import torch\n",
    "from chadhmm.hmm import CategoricalHMM, GaussianHMM, GaussianMixtureHMM, PoissonHMM"
   ]
  },
  {
   "cell_type": "code",
   "execution_count": 6,
   "metadata": {},
   "outputs": [],
   "source": [
    "hmm = CategoricalHMM(n_states=2,n_features=4)\n",
    "train_seq = torch.randint(0, 4, (1000,))\n",
    "#hmm.fit(X=train_seq,max_iter=15,lengths=[50,50],n_init=1,verbose=False)"
   ]
  },
  {
   "cell_type": "code",
   "execution_count": 7,
   "metadata": {},
   "outputs": [
    {
     "name": "stdout",
     "output_type": "stream",
     "text": [
      "797 ms ± 9.93 ms per loop (mean ± std. dev. of 7 runs, 1 loop each)\n"
     ]
    }
   ],
   "source": [
    "%%timeit\n",
    "hmm.fit(X=train_seq,max_iter=5,n_init=1,verbose=False)"
   ]
  },
  {
   "cell_type": "code",
   "execution_count": 12,
   "metadata": {},
   "outputs": [],
   "source": [
    "gmm = GaussianHMM(n_states=2,\n",
    "                  n_features=2)\n",
    "train_seq = torch.rand((1000,2), dtype=torch.float64)\n",
    "#gmm.fit(X=train_seq,max_iter=15, lengths=[50,50], n_init=1, verbose=False)"
   ]
  },
  {
   "cell_type": "code",
   "execution_count": 13,
   "metadata": {},
   "outputs": [
    {
     "name": "stdout",
     "output_type": "stream",
     "text": [
      "Model converged after 4 iterations with log-likelihood: -347.55\n",
      "853 ms ± 79.6 ms per loop (mean ± std. dev. of 7 runs, 1 loop each)\n"
     ]
    }
   ],
   "source": [
    "%%timeit\n",
    "gmm.fit(X=train_seq,max_iter=5,n_init=1,verbose=False)"
   ]
  },
  {
   "cell_type": "code",
   "execution_count": 50,
   "metadata": {},
   "outputs": [
    {
     "data": {
      "text/plain": [
       "PoissonHMM(\n",
       "  (params): ParameterDict(\n",
       "      (rates): Parameter containing: [torch.DoubleTensor of size 5x1]\n",
       "      (A): Parameter containing: [torch.DoubleTensor of size 5x5]\n",
       "      (pi): Parameter containing: [torch.DoubleTensor of size 5]\n",
       "  )\n",
       ")"
      ]
     },
     "execution_count": 50,
     "metadata": {},
     "output_type": "execute_result"
    }
   ],
   "source": [
    "phmm = PoissonHMM(n_states=2,\n",
    "                 n_features=2)\n",
    "train_seq = torch.randint(1,100,(100,1))\n",
    "phmm.fit(X=train_seq,max_iter=15,lengths=[50,50],n_init=1,verbose=False)"
   ]
  },
  {
   "cell_type": "code",
   "execution_count": 2,
   "metadata": {},
   "outputs": [
    {
     "name": "stdout",
     "output_type": "stream",
     "text": [
      "Model converged after 6 iterations with log-likelihood: -38.98\n"
     ]
    },
    {
     "data": {
      "text/plain": [
       "GaussianMixtureHMM(\n",
       "  (params): ParameterDict(\n",
       "      (covs): Parameter containing: [torch.DoubleTensor of size 4x3x3x3]\n",
       "      (means): Parameter containing: [torch.DoubleTensor of size 4x3x3]\n",
       "      (weights): Parameter containing: [torch.DoubleTensor of size 4x3]\n",
       "      (A): Parameter containing: [torch.DoubleTensor of size 4x4]\n",
       "      (pi): Parameter containing: [torch.DoubleTensor of size 4]\n",
       "  )\n",
       ")"
      ]
     },
     "execution_count": 2,
     "metadata": {},
     "output_type": "execute_result"
    }
   ],
   "source": [
    "gmmm = GaussianMixtureHMM(n_states=4,\n",
    "                         n_components=3,\n",
    "                         n_features=3)\n",
    "train_seq = torch.rand((100,3),dtype=torch.float64)\n",
    "gmmm.fit(X=train_seq,max_iter=15, n_init=1, lengths=[50,50], verbose=False)"
   ]
  },
  {
   "cell_type": "code",
   "execution_count": 1,
   "metadata": {},
   "outputs": [],
   "source": [
    "import torch\n",
    "from chadhmm.hsmm import CategoricalHSMM, GaussianHSMM, GaussianMixtureHSMM, PoissonHSMM"
   ]
  },
  {
   "cell_type": "code",
   "execution_count": 40,
   "metadata": {},
   "outputs": [
    {
     "name": "stdout",
     "output_type": "stream",
     "text": [
      "Run 1 | Initialization | Score: -143.57\n",
      "Run 1 | Iteration: 1 | Score: -137.29 | Delta: 6.28 | Converged = False\n",
      "Run 1 | Iteration: 2 | Score: -135.80 | Delta: 1.49 | Converged = False\n",
      "Run 1 | Iteration: 3 | Score: -135.07 | Delta: 0.73 | Converged = False\n",
      "Run 1 | Iteration: 4 | Score: -134.76 | Delta: 0.31 | Converged = False\n",
      "Run 1 | Iteration: 5 | Score: -134.66 | Delta: 0.10 | Converged = False\n",
      "Run 1 | Iteration: 6 | Score: -134.64 | Delta: 0.02 | Converged = False\n",
      "Run 1 | Iteration: 7 | Score: -134.65 | Delta: -0.00 | Converged = False\n",
      "Run 1 | Iteration: 8 | Score: -134.63 | Delta: 0.02 | Converged = False\n",
      "Run 1 | Iteration: 9 | Score: -134.58 | Delta: 0.05 | Converged = False\n",
      "Run 1 | Iteration: 10 | Score: -134.50 | Delta: 0.08 | Converged = False\n",
      "Run 1 | Iteration: 11 | Score: -134.38 | Delta: 0.12 | Converged = False\n",
      "Run 1 | Iteration: 12 | Score: -134.21 | Delta: 0.16 | Converged = False\n",
      "Run 1 | Iteration: 13 | Score: -134.02 | Delta: 0.19 | Converged = False\n",
      "Run 1 | Iteration: 14 | Score: -133.81 | Delta: 0.22 | Converged = False\n",
      "Run 1 | Iteration: 15 | Score: -133.58 | Delta: 0.23 | Converged = False\n"
     ]
    },
    {
     "data": {
      "text/plain": [
       "CategoricalHSMM(\n",
       "  (params): ParameterDict(\n",
       "      (B): Parameter containing: [torch.DoubleTensor of size 5x4]\n",
       "      (A): Parameter containing: [torch.DoubleTensor of size 5x5]\n",
       "      (D): Parameter containing: [torch.DoubleTensor of size 5x4]\n",
       "      (pi): Parameter containing: [torch.DoubleTensor of size 5]\n",
       "  )\n",
       ")"
      ]
     },
     "execution_count": 40,
     "metadata": {},
     "output_type": "execute_result"
    }
   ],
   "source": [
    "hsmm = CategoricalHSMM(n_states=5,\n",
    "                       n_features=4,\n",
    "                       max_duration=4)\n",
    "train_seq = torch.randint(0, 4, (100,))\n",
    "hsmm.fit(X=train_seq,max_iter=15, n_init=1)"
   ]
  },
  {
   "cell_type": "code",
   "execution_count": 44,
   "metadata": {},
   "outputs": [
    {
     "name": "stdout",
     "output_type": "stream",
     "text": [
      "pi 0.9999999999999999\n",
      "A  tensor([1.0000, 1.0000, 1.0000, 1.0000, 1.0000], dtype=torch.float64)\n",
      "D  tensor([1.0000, 1.0000, 1.0000, 1.0000, 1.0000], dtype=torch.float64)\n",
      "B  tensor([1.0000, 1.0000, 1.0000, 1.0000, 1.0000], dtype=torch.float64)\n"
     ]
    }
   ],
   "source": [
    "print(f'pi {hsmm.params.pi.exp().sum()}\\n'+\n",
    "      f'A  {hsmm.params.A.exp().sum(1)}\\n' +\n",
    "      f'D  {hsmm.params.D.exp().sum(1)}\\n' +\n",
    "      f'B  {hsmm.params.B.exp().sum(1)}')"
   ]
  },
  {
   "cell_type": "code",
   "execution_count": 47,
   "metadata": {},
   "outputs": [
    {
     "data": {
      "text/plain": [
       "GaussianHSMM(\n",
       "  (params): ParameterDict(\n",
       "      (covs): Parameter containing: [torch.DoubleTensor of size 5x3x3]\n",
       "      (means): Parameter containing: [torch.DoubleTensor of size 5x3]\n",
       "      (A): Parameter containing: [torch.DoubleTensor of size 5x5]\n",
       "      (D): Parameter containing: [torch.DoubleTensor of size 5x4]\n",
       "      (pi): Parameter containing: [torch.DoubleTensor of size 5]\n",
       "  )\n",
       ")"
      ]
     },
     "execution_count": 47,
     "metadata": {},
     "output_type": "execute_result"
    }
   ],
   "source": [
    "ghsmm = GaussianHSMM(n_states=5,\n",
    "                  n_features=3,\n",
    "                  max_duration=4)\n",
    "train_seq = torch.rand((100,3), dtype=torch.float64)\n",
    "ghsmm.fit(X=train_seq,max_iter=15, n_init=1, verbose=False)"
   ]
  },
  {
   "cell_type": "code",
   "execution_count": 25,
   "metadata": {},
   "outputs": [
    {
     "name": "stdout",
     "output_type": "stream",
     "text": [
      "Model converged after 6 iterations with log-likelihood: -41.80\n"
     ]
    },
    {
     "data": {
      "text/plain": [
       "GaussianMixtureHSMM(\n",
       "  (params): ParameterDict(\n",
       "      (covs): Parameter containing: [torch.DoubleTensor of size 4x3x3x3]\n",
       "      (means): Parameter containing: [torch.DoubleTensor of size 4x3x3]\n",
       "      (weights): Parameter containing: [torch.DoubleTensor of size 4x3]\n",
       "      (A): Parameter containing: [torch.DoubleTensor of size 4x4]\n",
       "      (D): Parameter containing: [torch.DoubleTensor of size 4x4]\n",
       "      (pi): Parameter containing: [torch.DoubleTensor of size 4]\n",
       "  )\n",
       ")"
      ]
     },
     "execution_count": 25,
     "metadata": {},
     "output_type": "execute_result"
    }
   ],
   "source": [
    "gmhsmm = GaussianMixtureHSMM(n_states=4,\n",
    "                         n_components=3,\n",
    "                         max_duration=4,\n",
    "                         n_features=3)\n",
    "train_seq = torch.rand((100,3),dtype=torch.float64)\n",
    "gmhsmm.fit(X=train_seq,max_iter=15, n_init=1, verbose=False)"
   ]
  },
  {
   "cell_type": "code",
   "execution_count": null,
   "metadata": {},
   "outputs": [],
   "source": []
  }
 ],
 "metadata": {
  "kernelspec": {
   "display_name": "Python 3",
   "language": "python",
   "name": "python3"
  },
  "language_info": {
   "codemirror_mode": {
    "name": "ipython",
    "version": 3
   },
   "file_extension": ".py",
   "mimetype": "text/x-python",
   "name": "python",
   "nbconvert_exporter": "python",
   "pygments_lexer": "ipython3",
   "version": "3.10.12"
  }
 },
 "nbformat": 4,
 "nbformat_minor": 2
}
