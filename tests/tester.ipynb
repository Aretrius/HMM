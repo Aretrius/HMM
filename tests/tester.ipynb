{
 "cells": [
  {
   "cell_type": "markdown",
   "metadata": {},
   "source": [
    "### Hidden Markov Models"
   ]
  },
  {
   "cell_type": "code",
   "execution_count": null,
   "metadata": {},
   "outputs": [],
   "source": [
    "import torch\n",
    "from chadhmm import CategoricalHMM, GaussianHMM, GaussianMixtureHMM"
   ]
  },
  {
   "cell_type": "code",
   "execution_count": null,
   "metadata": {},
   "outputs": [],
   "source": [
    "hmm = CategoricalHMM(n_states=3,\n",
    "                     n_features=4,\n",
    "                     params_init=True,\n",
    "                     seed=18,\n",
    "                     device=torch.device('cpu'))\n",
    "train_seq = torch.randint(0, 4, (100,))\n",
    "theta = torch.rand((5,1))\n",
    "dist_models = hmm.fit(train_seq,max_iter=15, n_init=1)\n",
    "\n",
    "print('Model AIC: {:.2f}'.format(hmm.ic(train_seq)))"
   ]
  },
  {
   "cell_type": "code",
   "execution_count": null,
   "metadata": {},
   "outputs": [],
   "source": [
    "gmm = GaussianHMM(n_states=5,\n",
    "                  n_features=3,\n",
    "                  params_init=True,\n",
    "                  seed=15,\n",
    "                  device=torch.device('cpu'))\n",
    "train_seq = torch.rand((1000,3), dtype=torch.float64)\n",
    "dist_models = gmm.fit(X=train_seq,max_iter=15, n_init=1)\n",
    "print('Model AIC: {:.2f}'.format(gmm.ic(train_seq)))"
   ]
  },
  {
   "cell_type": "code",
   "execution_count": null,
   "metadata": {},
   "outputs": [],
   "source": [
    "gmmm = GaussianMixtureHMM(n_states=4,\n",
    "                         n_components=3,\n",
    "                         n_features=9,\n",
    "                         params_init=True,\n",
    "                         device=torch.device('cpu'))\n",
    "train_seq = torch.rand((100,9),dtype=torch.float64)\n",
    "gmmm.fit(X=train_seq,max_iter=15, n_init=1)\n",
    "\n",
    "print('Model AIC: {:.2f}'.format(gmmm.ic(train_seq)))"
   ]
  },
  {
   "cell_type": "markdown",
   "metadata": {},
   "source": [
    "### Hidden Semi-Markov Models"
   ]
  },
  {
   "cell_type": "code",
   "execution_count": null,
   "metadata": {},
   "outputs": [],
   "source": [
    "import torch\n",
    "from chadhmm import CategoricalHSMM, GaussianHSMM, GaussianMixtureHSMM"
   ]
  },
  {
   "cell_type": "code",
   "execution_count": null,
   "metadata": {},
   "outputs": [],
   "source": [
    "hsmm = CategoricalHSMM(n_states=3,\n",
    "                  max_duration=5,\n",
    "                  n_emissions=5,\n",
    "                  device=torch.device('cpu'))\n",
    "\n",
    "train_seq = torch.randint(0,5,(100,))\n",
    "dist_models = hsmm.fit(X=train_seq,lengths=[20,40,40],max_iter=15, n_init=1)\n",
    "\n",
    "print('Model AIC: {:.2f}'.format(hsmm.ic(train_seq)))"
   ]
  },
  {
   "cell_type": "code",
   "execution_count": null,
   "metadata": {},
   "outputs": [],
   "source": [
    "ghsmm = GaussianHSMM(n_states=5,\n",
    "                     max_duration=5,\n",
    "                    n_features=3,\n",
    "                    device=torch.device('cpu'))\n",
    "train_seq = torch.rand(100,3, dtype=torch.float64)\n",
    "dist_models = ghsmm.fit(X=train_seq,max_iter=15, n_init=1)\n",
    "\n",
    "print('Model AIC: {:.2f}'.format(ghsmm.ic(train_seq)))"
   ]
  },
  {
   "cell_type": "code",
   "execution_count": null,
   "metadata": {},
   "outputs": [],
   "source": [
    "gmhsmm = GaussianMixtureHSMM(n_states=5, \n",
    "                           max_duration=5,\n",
    "                           n_components=3,\n",
    "                           n_features=4,\n",
    "                           device=torch.device('cpu'))\n",
    "train_seq = torch.rand(100,4, dtype=torch.float64)\n",
    "dist_model = gmhsmm.fit(X=train_seq,max_iter=15, n_init=1)\n",
    "\n",
    "print('Model AIC: {:.2f}'.format(gmhsmm.ic(train_seq)))"
   ]
  },
  {
   "cell_type": "markdown",
   "metadata": {},
   "source": [
    "Guassian Mixtures"
   ]
  },
  {
   "cell_type": "code",
   "execution_count": null,
   "metadata": {},
   "outputs": [],
   "source": [
    "import torch\n",
    "from chadhmm import GaussianMixtureModel"
   ]
  },
  {
   "cell_type": "code",
   "execution_count": null,
   "metadata": {},
   "outputs": [],
   "source": [
    "gmm = GaussianMixtureModel(n_dims=1,\n",
    "                           n_components=3,\n",
    "                           n_features=2,\n",
    "                           seed=15,\n",
    "                           min_covar=1e-3,\n",
    "                           device=torch.device('cpu'))\n",
    "\n",
    "X = torch.rand(1000,2, dtype=torch.float64)\n",
    "mod = gmm.fit(X,max_iter=4,verbose=True)"
   ]
  },
  {
   "cell_type": "code",
   "execution_count": null,
   "metadata": {},
   "outputs": [],
   "source": []
  }
 ],
 "metadata": {
  "kernelspec": {
   "display_name": "hmm",
   "language": "python",
   "name": "python3"
  },
  "language_info": {
   "codemirror_mode": {
    "name": "ipython",
    "version": 3
   },
   "file_extension": ".py",
   "mimetype": "text/x-python",
   "name": "python",
   "nbconvert_exporter": "python",
   "pygments_lexer": "ipython3",
   "version": "3.10.12"
  }
 },
 "nbformat": 4,
 "nbformat_minor": 2
}
