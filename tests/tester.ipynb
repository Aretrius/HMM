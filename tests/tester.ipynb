{
 "cells": [
  {
   "cell_type": "markdown",
   "metadata": {},
   "source": [
    "### Hidden Markov Models"
   ]
  },
  {
   "cell_type": "code",
   "execution_count": 2,
   "metadata": {},
   "outputs": [
    {
     "ename": "ImportError",
     "evalue": "attempted relative import with no known parent package",
     "output_type": "error",
     "traceback": [
      "\u001b[0;31m---------------------------------------------------------------------------\u001b[0m",
      "\u001b[0;31mImportError\u001b[0m                               Traceback (most recent call last)",
      "\u001b[0;32m/tmp/ipykernel_66845/1999015949.py\u001b[0m in \u001b[0;36m<module>\u001b[0;34m\u001b[0m\n\u001b[1;32m      1\u001b[0m \u001b[0;32mimport\u001b[0m \u001b[0mtorch\u001b[0m\u001b[0;34m\u001b[0m\u001b[0;34m\u001b[0m\u001b[0m\n\u001b[0;32m----> 2\u001b[0;31m \u001b[0;32mfrom\u001b[0m \u001b[0;34m.\u001b[0m\u001b[0;34m.\u001b[0m\u001b[0msrc\u001b[0m\u001b[0;34m.\u001b[0m\u001b[0mhmm\u001b[0m \u001b[0;32mimport\u001b[0m \u001b[0mCategoricalHMM\u001b[0m\u001b[0;34m,\u001b[0m \u001b[0mGaussianHMM\u001b[0m\u001b[0;34m,\u001b[0m \u001b[0mGaussianMixtureHMM\u001b[0m\u001b[0;34m\u001b[0m\u001b[0;34m\u001b[0m\u001b[0m\n\u001b[0m",
      "\u001b[0;31mImportError\u001b[0m: attempted relative import with no known parent package"
     ]
    }
   ],
   "source": [
    "import torch\n",
    "from src.hmm import CategoricalHMM, GaussianHMM, GaussianMixtureHMM"
   ]
  },
  {
   "cell_type": "code",
   "execution_count": 2,
   "metadata": {},
   "outputs": [
    {
     "ename": "TypeError",
     "evalue": "Can't instantiate abstract class CategoricalHMM with abstract methods check_sequence, map_emission, sample_B_params",
     "output_type": "error",
     "traceback": [
      "\u001b[0;31m---------------------------------------------------------------------------\u001b[0m",
      "\u001b[0;31mTypeError\u001b[0m                                 Traceback (most recent call last)",
      "\u001b[0;32m/tmp/ipykernel_61251/777431585.py\u001b[0m in \u001b[0;36m<module>\u001b[0;34m\u001b[0m\n\u001b[0;32m----> 1\u001b[0;31m hmm = CategoricalHMM(n_states=3,\n\u001b[0m\u001b[1;32m      2\u001b[0m                      \u001b[0mn_features\u001b[0m\u001b[0;34m=\u001b[0m\u001b[0;36m4\u001b[0m\u001b[0;34m,\u001b[0m\u001b[0;34m\u001b[0m\u001b[0;34m\u001b[0m\u001b[0m\n\u001b[1;32m      3\u001b[0m                      \u001b[0mparams_init\u001b[0m\u001b[0;34m=\u001b[0m\u001b[0;32mTrue\u001b[0m\u001b[0;34m,\u001b[0m\u001b[0;34m\u001b[0m\u001b[0;34m\u001b[0m\u001b[0m\n\u001b[1;32m      4\u001b[0m                      \u001b[0mseed\u001b[0m\u001b[0;34m=\u001b[0m\u001b[0;36m18\u001b[0m\u001b[0;34m,\u001b[0m\u001b[0;34m\u001b[0m\u001b[0;34m\u001b[0m\u001b[0m\n\u001b[1;32m      5\u001b[0m                      device=torch.device('cpu'))\n",
      "\u001b[0;31mTypeError\u001b[0m: Can't instantiate abstract class CategoricalHMM with abstract methods check_sequence, map_emission, sample_B_params"
     ]
    }
   ],
   "source": [
    "hmm = CategoricalHMM(n_states=3,\n",
    "                     n_features=4,\n",
    "                     params_init=True,\n",
    "                     seed=18,\n",
    "                     device=torch.device('cpu'))\n",
    "train_seq = torch.randint(0, 4, (1000,))\n",
    "theta = torch.rand((5,1))\n",
    "dist_models = hmm.fit(train_seq,max_iter=15, n_init=1)\n",
    "\n",
    "print('Model AIC: {:.2f}'.format(hmm.ic(train_seq)))"
   ]
  },
  {
   "cell_type": "code",
   "execution_count": 6,
   "metadata": {},
   "outputs": [
    {
     "name": "stdout",
     "output_type": "stream",
     "text": [
      "Run 1 | Initialization | Score: -3252.01\n",
      "Run 1 | Iteration: 1 | Score: -589.79 | Delta: 2662.22 | Converged = False\n",
      "Run 1 | Iteration: 2 | Score: -589.78 | Delta: 0.01 | Converged = False\n",
      "Run 1 | Iteration: 3 | Score: -589.77 | Delta: 0.01 | Converged = False\n",
      "Run 1 | Iteration: 4 | Score: -589.75 | Delta: 0.02 | Converged = False\n",
      "Run 1 | Iteration: 5 | Score: -589.73 | Delta: 0.02 | Converged = False\n",
      "Run 1 | Iteration: 6 | Score: -589.70 | Delta: 0.03 | Converged = False\n",
      "Run 1 | Iteration: 7 | Score: -589.66 | Delta: 0.04 | Converged = False\n",
      "Run 1 | Iteration: 8 | Score: -589.62 | Delta: 0.05 | Converged = False\n",
      "Run 1 | Iteration: 9 | Score: -589.56 | Delta: 0.06 | Converged = False\n",
      "Run 1 | Iteration: 10 | Score: -589.49 | Delta: 0.07 | Converged = False\n",
      "Run 1 | Iteration: 11 | Score: -589.41 | Delta: 0.08 | Converged = False\n",
      "Run 1 | Iteration: 12 | Score: -589.33 | Delta: 0.09 | Converged = False\n",
      "Run 1 | Iteration: 13 | Score: -589.23 | Delta: 0.10 | Converged = False\n",
      "Run 1 | Iteration: 14 | Score: -589.11 | Delta: 0.11 | Converged = False\n",
      "Run 1 | Iteration: 15 | Score: -588.99 | Delta: 0.12 | Converged = False\n",
      "Model AIC: 1345.98\n"
     ]
    }
   ],
   "source": [
    "gmm = GaussianHMM(n_states=5,\n",
    "                  n_features=3,\n",
    "                  params_init=True,\n",
    "                  seed=15,\n",
    "                  device=torch.device('cpu'))\n",
    "train_seq = torch.rand((1000,3), dtype=torch.float64)\n",
    "dist_models = gmm.fit(X=train_seq,max_iter=15, n_init=1)\n",
    "print('Model AIC: {:.2f}'.format(gmm.ic(train_seq)))"
   ]
  },
  {
   "cell_type": "code",
   "execution_count": 17,
   "metadata": {},
   "outputs": [
    {
     "name": "stdout",
     "output_type": "stream",
     "text": [
      "Run 1 | Initialization | Score: -971.96\n",
      "Run 1 | Iteration: 1 | Score: -127.10 | Delta: 844.85 | Converged = False\n",
      "Run 1 | Iteration: 2 | Score: -126.59 | Delta: 0.51 | Converged = False\n",
      "Run 1 | Iteration: 3 | Score: -122.59 | Delta: 4.00 | Converged = False\n",
      "Run 1 | Iteration: 4 | Score: -102.56 | Delta: 20.03 | Converged = False\n",
      "Run 1 | Iteration: 5 | Score: -64.92 | Delta: 37.64 | Converged = False\n",
      "Run 1 | Iteration: 6 | Score: -26.14 | Delta: 38.78 | Converged = False\n",
      "Run 1 | Iteration: 7 | Score: 2.42 | Delta: 28.57 | Converged = False\n",
      "Run 1 | Iteration: 8 | Score: 26.35 | Delta: 23.93 | Converged = False\n",
      "Run 1 | Iteration: 9 | Score: 35.67 | Delta: 9.31 | Converged = False\n",
      "Run 1 | Iteration: 10 | Score: 38.38 | Delta: 2.71 | Converged = False\n",
      "Run 1 | Iteration: 11 | Score: 42.52 | Delta: 4.15 | Converged = False\n",
      "Run 1 | Iteration: 12 | Score: 45.89 | Delta: 3.37 | Converged = False\n",
      "Run 1 | Iteration: 13 | Score: 46.63 | Delta: 0.74 | Converged = False\n",
      "Run 1 | Iteration: 14 | Score: 47.87 | Delta: 1.24 | Converged = False\n",
      "Run 1 | Iteration: 15 | Score: 49.67 | Delta: 1.80 | Converged = False\n",
      "Model AIC: 2106.66\n"
     ]
    }
   ],
   "source": [
    "gmmm = GaussianMixtureHMM(n_states=4,\n",
    "                         n_components=3,\n",
    "                         n_features=9,\n",
    "                         params_init=True,\n",
    "                         device=torch.device('cpu'))\n",
    "train_seq = torch.rand((100,9),dtype=torch.float64)\n",
    "gmmm.fit(X=train_seq,max_iter=15, n_init=1)\n",
    "\n",
    "print('Model AIC: {:.2f}'.format(gmmm.ic(train_seq)))"
   ]
  },
  {
   "cell_type": "markdown",
   "metadata": {},
   "source": [
    "### Hidden Semi-Markov Models"
   ]
  },
  {
   "cell_type": "code",
   "execution_count": 18,
   "metadata": {},
   "outputs": [],
   "source": [
    "import torch\n",
    "from src.hsmm import CategoricalHSMM, GaussianHSMM, GaussianMixtureHSMM"
   ]
  },
  {
   "cell_type": "code",
   "execution_count": 19,
   "metadata": {},
   "outputs": [
    {
     "name": "stdout",
     "output_type": "stream",
     "text": [
      "Run 1 | Initialization | Score: -183.70\n",
      "Run 1 | Iteration: 1 | Score: -160.40 | Delta: 23.30 | Converged = False\n",
      "Run 1 | Iteration: 2 | Score: -159.02 | Delta: 1.38 | Converged = False\n",
      "Run 1 | Iteration: 3 | Score: -158.38 | Delta: 0.64 | Converged = False\n",
      "Run 1 | Iteration: 4 | Score: -157.96 | Delta: 0.42 | Converged = False\n",
      "Run 1 | Iteration: 5 | Score: -157.64 | Delta: 0.32 | Converged = False\n",
      "Run 1 | Iteration: 6 | Score: -157.39 | Delta: 0.25 | Converged = False\n",
      "Run 1 | Iteration: 7 | Score: -157.16 | Delta: 0.23 | Converged = False\n",
      "Run 1 | Iteration: 8 | Score: -156.92 | Delta: 0.24 | Converged = False\n",
      "Run 1 | Iteration: 9 | Score: -156.63 | Delta: 0.30 | Converged = False\n",
      "Run 1 | Iteration: 10 | Score: -156.24 | Delta: 0.39 | Converged = False\n",
      "Run 1 | Iteration: 11 | Score: -155.75 | Delta: 0.49 | Converged = False\n",
      "Run 1 | Iteration: 12 | Score: -155.18 | Delta: 0.57 | Converged = False\n",
      "Run 1 | Iteration: 13 | Score: -154.62 | Delta: 0.56 | Converged = False\n",
      "Run 1 | Iteration: 14 | Score: -154.21 | Delta: 0.41 | Converged = False\n",
      "Run 1 | Iteration: 15 | Score: -153.99 | Delta: 0.22 | Converged = False\n",
      "Model AIC: 352.19\n"
     ]
    }
   ],
   "source": [
    "hsmm = CategoricalHSMM(n_states=3,\n",
    "                  max_duration=5,\n",
    "                  n_emissions=5,\n",
    "                  params_init=True,\n",
    "                  device=torch.device('cpu'))\n",
    "\n",
    "train_seq = torch.randint(0,5,(100,))\n",
    "dist_models = hsmm.fit(X=train_seq,lengths=[20,40,40],max_iter=15, n_init=1)\n",
    "\n",
    "print('Model AIC: {:.2f}'.format(hsmm.ic(train_seq)))"
   ]
  },
  {
   "cell_type": "code",
   "execution_count": 20,
   "metadata": {},
   "outputs": [
    {
     "name": "stdout",
     "output_type": "stream",
     "text": [
      "Run 1 | Initialization | Score: -323.36\n",
      "Run 1 | Iteration: 1 | Score: -45.70 | Delta: 277.66 | Converged = False\n",
      "Run 1 | Iteration: 2 | Score: -45.52 | Delta: 0.18 | Converged = False\n",
      "Run 1 | Iteration: 3 | Score: -45.29 | Delta: 0.23 | Converged = False\n",
      "Run 1 | Iteration: 4 | Score: -44.99 | Delta: 0.30 | Converged = False\n",
      "Run 1 | Iteration: 5 | Score: -44.47 | Delta: 0.52 | Converged = False\n",
      "Run 1 | Iteration: 6 | Score: -43.20 | Delta: 1.27 | Converged = False\n",
      "Run 1 | Iteration: 7 | Score: -41.27 | Delta: 1.94 | Converged = False\n",
      "Run 1 | Iteration: 8 | Score: -39.46 | Delta: 1.80 | Converged = False\n",
      "Run 1 | Iteration: 9 | Score: -37.53 | Delta: 1.94 | Converged = False\n"
     ]
    },
    {
     "ename": "ValueError",
     "evalue": "Expected parameter loc (Tensor of shape (5, 3)) of distribution MultivariateNormal(loc: torch.Size([5, 3]), covariance_matrix: torch.Size([5, 3, 3])) to satisfy the constraint IndependentConstraint(Real(), 1), but found invalid values:\ntensor([[0.5666, 0.5275, 0.4976],\n        [   nan,    nan,    nan],\n        [0.7122, 0.5017, 0.2116],\n        [0.4394, 0.5327, 0.4991],\n        [0.4911, 0.4609, 0.4928]], dtype=torch.float64)",
     "output_type": "error",
     "traceback": [
      "\u001b[0;31m---------------------------------------------------------------------------\u001b[0m",
      "\u001b[0;31mValueError\u001b[0m                                Traceback (most recent call last)",
      "\u001b[0;32m/tmp/ipykernel_50807/2394402218.py\u001b[0m in \u001b[0;36m<module>\u001b[0;34m\u001b[0m\n\u001b[1;32m      5\u001b[0m                     device=torch.device('cpu'))\n\u001b[1;32m      6\u001b[0m \u001b[0mtrain_seq\u001b[0m \u001b[0;34m=\u001b[0m \u001b[0mtorch\u001b[0m\u001b[0;34m.\u001b[0m\u001b[0mrand\u001b[0m\u001b[0;34m(\u001b[0m\u001b[0;36m100\u001b[0m\u001b[0;34m,\u001b[0m\u001b[0;36m3\u001b[0m\u001b[0;34m,\u001b[0m \u001b[0mdtype\u001b[0m\u001b[0;34m=\u001b[0m\u001b[0mtorch\u001b[0m\u001b[0;34m.\u001b[0m\u001b[0mfloat64\u001b[0m\u001b[0;34m)\u001b[0m\u001b[0;34m\u001b[0m\u001b[0;34m\u001b[0m\u001b[0m\n\u001b[0;32m----> 7\u001b[0;31m \u001b[0mdist_models\u001b[0m \u001b[0;34m=\u001b[0m \u001b[0mghsmm\u001b[0m\u001b[0;34m.\u001b[0m\u001b[0mfit\u001b[0m\u001b[0;34m(\u001b[0m\u001b[0mX\u001b[0m\u001b[0;34m=\u001b[0m\u001b[0mtrain_seq\u001b[0m\u001b[0;34m,\u001b[0m\u001b[0mmax_iter\u001b[0m\u001b[0;34m=\u001b[0m\u001b[0;36m15\u001b[0m\u001b[0;34m,\u001b[0m \u001b[0mn_init\u001b[0m\u001b[0;34m=\u001b[0m\u001b[0;36m1\u001b[0m\u001b[0;34m)\u001b[0m\u001b[0;34m\u001b[0m\u001b[0;34m\u001b[0m\u001b[0m\n\u001b[0m\u001b[1;32m      8\u001b[0m \u001b[0;34m\u001b[0m\u001b[0m\n\u001b[1;32m      9\u001b[0m \u001b[0mprint\u001b[0m\u001b[0;34m(\u001b[0m\u001b[0;34m'Model AIC: {:.2f}'\u001b[0m\u001b[0;34m.\u001b[0m\u001b[0mformat\u001b[0m\u001b[0;34m(\u001b[0m\u001b[0mghsmm\u001b[0m\u001b[0;34m.\u001b[0m\u001b[0mic\u001b[0m\u001b[0;34m(\u001b[0m\u001b[0mtrain_seq\u001b[0m\u001b[0;34m)\u001b[0m\u001b[0;34m)\u001b[0m\u001b[0;34m)\u001b[0m\u001b[0;34m\u001b[0m\u001b[0;34m\u001b[0m\u001b[0m\n",
      "\u001b[0;32m~/ChadHMM/chadhmm/hsmm/BaseHSMM.py\u001b[0m in \u001b[0;36mfit\u001b[0;34m(self, X, tol, max_iter, n_init, post_conv_iter, ignore_conv, sample_B_from_X, verbose, plot_conv, lengths, theta)\u001b[0m\n\u001b[1;32m    391\u001b[0m \u001b[0;34m\u001b[0m\u001b[0m\n\u001b[1;32m    392\u001b[0m                 \u001b[0;31m# remap emission probabilities after update of B\u001b[0m\u001b[0;34m\u001b[0m\u001b[0;34m\u001b[0m\u001b[0m\n\u001b[0;32m--> 393\u001b[0;31m                 \u001b[0mX_valid\u001b[0m\u001b[0;34m.\u001b[0m\u001b[0mlog_probs\u001b[0m \u001b[0;34m=\u001b[0m \u001b[0;34m[\u001b[0m\u001b[0mself\u001b[0m\u001b[0;34m.\u001b[0m\u001b[0mmap_emission\u001b[0m\u001b[0;34m(\u001b[0m\u001b[0mx\u001b[0m\u001b[0;34m)\u001b[0m \u001b[0;32mfor\u001b[0m \u001b[0mx\u001b[0m \u001b[0;32min\u001b[0m \u001b[0mX_valid\u001b[0m\u001b[0;34m.\u001b[0m\u001b[0mX\u001b[0m\u001b[0;34m]\u001b[0m\u001b[0;34m\u001b[0m\u001b[0;34m\u001b[0m\u001b[0m\n\u001b[0m\u001b[1;32m    394\u001b[0m \u001b[0;34m\u001b[0m\u001b[0m\n\u001b[1;32m    395\u001b[0m                 \u001b[0mcurr_log_like\u001b[0m \u001b[0;34m=\u001b[0m \u001b[0msum\u001b[0m\u001b[0;34m(\u001b[0m\u001b[0mself\u001b[0m\u001b[0;34m.\u001b[0m\u001b[0m_compute_log_likelihood\u001b[0m\u001b[0;34m(\u001b[0m\u001b[0mX_valid\u001b[0m\u001b[0;34m)\u001b[0m\u001b[0;34m)\u001b[0m\u001b[0;34m\u001b[0m\u001b[0;34m\u001b[0m\u001b[0m\n",
      "\u001b[0;32m~/ChadHMM/chadhmm/hsmm/BaseHSMM.py\u001b[0m in \u001b[0;36m<listcomp>\u001b[0;34m(.0)\u001b[0m\n\u001b[1;32m    391\u001b[0m \u001b[0;34m\u001b[0m\u001b[0m\n\u001b[1;32m    392\u001b[0m                 \u001b[0;31m# remap emission probabilities after update of B\u001b[0m\u001b[0;34m\u001b[0m\u001b[0;34m\u001b[0m\u001b[0m\n\u001b[0;32m--> 393\u001b[0;31m                 \u001b[0mX_valid\u001b[0m\u001b[0;34m.\u001b[0m\u001b[0mlog_probs\u001b[0m \u001b[0;34m=\u001b[0m \u001b[0;34m[\u001b[0m\u001b[0mself\u001b[0m\u001b[0;34m.\u001b[0m\u001b[0mmap_emission\u001b[0m\u001b[0;34m(\u001b[0m\u001b[0mx\u001b[0m\u001b[0;34m)\u001b[0m \u001b[0;32mfor\u001b[0m \u001b[0mx\u001b[0m \u001b[0;32min\u001b[0m \u001b[0mX_valid\u001b[0m\u001b[0;34m.\u001b[0m\u001b[0mX\u001b[0m\u001b[0;34m]\u001b[0m\u001b[0;34m\u001b[0m\u001b[0;34m\u001b[0m\u001b[0m\n\u001b[0m\u001b[1;32m    394\u001b[0m \u001b[0;34m\u001b[0m\u001b[0m\n\u001b[1;32m    395\u001b[0m                 \u001b[0mcurr_log_like\u001b[0m \u001b[0;34m=\u001b[0m \u001b[0msum\u001b[0m\u001b[0;34m(\u001b[0m\u001b[0mself\u001b[0m\u001b[0;34m.\u001b[0m\u001b[0m_compute_log_likelihood\u001b[0m\u001b[0;34m(\u001b[0m\u001b[0mX_valid\u001b[0m\u001b[0;34m)\u001b[0m\u001b[0;34m)\u001b[0m\u001b[0;34m\u001b[0m\u001b[0;34m\u001b[0m\u001b[0m\n",
      "\u001b[0;32m~/ChadHMM/chadhmm/hsmm/GaussianHSMM.py\u001b[0m in \u001b[0;36mmap_emission\u001b[0;34m(self, emission)\u001b[0m\n\u001b[1;32m     93\u001b[0m \u001b[0;34m\u001b[0m\u001b[0m\n\u001b[1;32m     94\u001b[0m     \u001b[0;32mdef\u001b[0m \u001b[0mmap_emission\u001b[0m\u001b[0;34m(\u001b[0m\u001b[0mself\u001b[0m\u001b[0;34m,\u001b[0m \u001b[0memission\u001b[0m\u001b[0;34m)\u001b[0m\u001b[0;34m:\u001b[0m\u001b[0;34m\u001b[0m\u001b[0;34m\u001b[0m\u001b[0m\n\u001b[0;32m---> 95\u001b[0;31m         \u001b[0;32mreturn\u001b[0m \u001b[0mGaussianEmissions\u001b[0m\u001b[0;34m.\u001b[0m\u001b[0mmap_emission\u001b[0m\u001b[0;34m(\u001b[0m\u001b[0mself\u001b[0m\u001b[0;34m,\u001b[0m\u001b[0memission\u001b[0m\u001b[0;34m)\u001b[0m\u001b[0;34m\u001b[0m\u001b[0;34m\u001b[0m\u001b[0m\n\u001b[0m\u001b[1;32m     96\u001b[0m \u001b[0;34m\u001b[0m\u001b[0m\n\u001b[1;32m     97\u001b[0m     \u001b[0;32mdef\u001b[0m \u001b[0msample_B_params\u001b[0m\u001b[0;34m(\u001b[0m\u001b[0mself\u001b[0m\u001b[0;34m,\u001b[0m\u001b[0mX\u001b[0m\u001b[0;34m=\u001b[0m\u001b[0;32mNone\u001b[0m\u001b[0;34m,\u001b[0m\u001b[0mseed\u001b[0m\u001b[0;34m=\u001b[0m\u001b[0;32mNone\u001b[0m\u001b[0;34m)\u001b[0m\u001b[0;34m:\u001b[0m\u001b[0;34m\u001b[0m\u001b[0;34m\u001b[0m\u001b[0m\n",
      "\u001b[0;32m~/ChadHMM/chadhmm/emissions/gaussian.py\u001b[0m in \u001b[0;36mmap_emission\u001b[0;34m(self, x)\u001b[0m\n\u001b[1;32m     87\u001b[0m         \u001b[0;34m\"\"\"Sample the emission probabilities for each hidden state.\"\"\"\u001b[0m\u001b[0;34m\u001b[0m\u001b[0;34m\u001b[0m\u001b[0m\n\u001b[1;32m     88\u001b[0m         \u001b[0mx_batched\u001b[0m \u001b[0;34m=\u001b[0m \u001b[0mx\u001b[0m\u001b[0;34m.\u001b[0m\u001b[0munsqueeze\u001b[0m\u001b[0;34m(\u001b[0m\u001b[0;36m1\u001b[0m\u001b[0;34m)\u001b[0m\u001b[0;34m.\u001b[0m\u001b[0mexpand\u001b[0m\u001b[0;34m(\u001b[0m\u001b[0;34m-\u001b[0m\u001b[0;36m1\u001b[0m\u001b[0;34m,\u001b[0m\u001b[0mself\u001b[0m\u001b[0;34m.\u001b[0m\u001b[0mn_dims\u001b[0m\u001b[0;34m,\u001b[0m\u001b[0;34m-\u001b[0m\u001b[0;36m1\u001b[0m\u001b[0;34m)\u001b[0m\u001b[0;34m\u001b[0m\u001b[0;34m\u001b[0m\u001b[0m\n\u001b[0;32m---> 89\u001b[0;31m         \u001b[0;32mreturn\u001b[0m \u001b[0mself\u001b[0m\u001b[0;34m.\u001b[0m\u001b[0mpdf\u001b[0m\u001b[0;34m.\u001b[0m\u001b[0mlog_prob\u001b[0m\u001b[0;34m(\u001b[0m\u001b[0mx_batched\u001b[0m\u001b[0;34m)\u001b[0m\u001b[0;34m\u001b[0m\u001b[0;34m\u001b[0m\u001b[0m\n\u001b[0m\u001b[1;32m     90\u001b[0m \u001b[0;34m\u001b[0m\u001b[0m\n\u001b[1;32m     91\u001b[0m     \u001b[0;34m@\u001b[0m\u001b[0mproperty\u001b[0m\u001b[0;34m\u001b[0m\u001b[0;34m\u001b[0m\u001b[0m\n",
      "\u001b[0;32m~/ChadHMM/chadhmm/emissions/gaussian.py\u001b[0m in \u001b[0;36mpdf\u001b[0;34m(self)\u001b[0m\n\u001b[1;32m     82\u001b[0m     \u001b[0;34m@\u001b[0m\u001b[0mproperty\u001b[0m\u001b[0;34m\u001b[0m\u001b[0;34m\u001b[0m\u001b[0m\n\u001b[1;32m     83\u001b[0m     \u001b[0;32mdef\u001b[0m \u001b[0mpdf\u001b[0m\u001b[0;34m(\u001b[0m\u001b[0mself\u001b[0m\u001b[0;34m)\u001b[0m\u001b[0;34m:\u001b[0m\u001b[0;34m\u001b[0m\u001b[0;34m\u001b[0m\u001b[0m\n\u001b[0;32m---> 84\u001b[0;31m         \u001b[0;32mreturn\u001b[0m \u001b[0mtorch\u001b[0m\u001b[0;34m.\u001b[0m\u001b[0mdistributions\u001b[0m\u001b[0;34m.\u001b[0m\u001b[0mMultivariateNormal\u001b[0m\u001b[0;34m(\u001b[0m\u001b[0mself\u001b[0m\u001b[0;34m.\u001b[0m\u001b[0mmeans\u001b[0m\u001b[0;34m,\u001b[0m\u001b[0mself\u001b[0m\u001b[0;34m.\u001b[0m\u001b[0mcovs\u001b[0m\u001b[0;34m)\u001b[0m\u001b[0;34m\u001b[0m\u001b[0;34m\u001b[0m\u001b[0m\n\u001b[0m\u001b[1;32m     85\u001b[0m \u001b[0;34m\u001b[0m\u001b[0m\n\u001b[1;32m     86\u001b[0m     \u001b[0;32mdef\u001b[0m \u001b[0mmap_emission\u001b[0m\u001b[0;34m(\u001b[0m\u001b[0mself\u001b[0m\u001b[0;34m,\u001b[0m \u001b[0mx\u001b[0m\u001b[0;34m:\u001b[0m\u001b[0mtorch\u001b[0m\u001b[0;34m.\u001b[0m\u001b[0mTensor\u001b[0m\u001b[0;34m)\u001b[0m \u001b[0;34m->\u001b[0m \u001b[0mtorch\u001b[0m\u001b[0;34m.\u001b[0m\u001b[0mTensor\u001b[0m\u001b[0;34m:\u001b[0m\u001b[0;34m\u001b[0m\u001b[0;34m\u001b[0m\u001b[0m\n",
      "\u001b[0;32m~/.local/lib/python3.10/site-packages/torch/distributions/multivariate_normal.py\u001b[0m in \u001b[0;36m__init__\u001b[0;34m(self, loc, covariance_matrix, precision_matrix, scale_tril, validate_args)\u001b[0m\n\u001b[1;32m    148\u001b[0m \u001b[0;34m\u001b[0m\u001b[0m\n\u001b[1;32m    149\u001b[0m         \u001b[0mevent_shape\u001b[0m \u001b[0;34m=\u001b[0m \u001b[0mself\u001b[0m\u001b[0;34m.\u001b[0m\u001b[0mloc\u001b[0m\u001b[0;34m.\u001b[0m\u001b[0mshape\u001b[0m\u001b[0;34m[\u001b[0m\u001b[0;34m-\u001b[0m\u001b[0;36m1\u001b[0m\u001b[0;34m:\u001b[0m\u001b[0;34m]\u001b[0m\u001b[0;34m\u001b[0m\u001b[0;34m\u001b[0m\u001b[0m\n\u001b[0;32m--> 150\u001b[0;31m         \u001b[0msuper\u001b[0m\u001b[0;34m(\u001b[0m\u001b[0;34m)\u001b[0m\u001b[0;34m.\u001b[0m\u001b[0m__init__\u001b[0m\u001b[0;34m(\u001b[0m\u001b[0mbatch_shape\u001b[0m\u001b[0;34m,\u001b[0m \u001b[0mevent_shape\u001b[0m\u001b[0;34m,\u001b[0m \u001b[0mvalidate_args\u001b[0m\u001b[0;34m=\u001b[0m\u001b[0mvalidate_args\u001b[0m\u001b[0;34m)\u001b[0m\u001b[0;34m\u001b[0m\u001b[0;34m\u001b[0m\u001b[0m\n\u001b[0m\u001b[1;32m    151\u001b[0m \u001b[0;34m\u001b[0m\u001b[0m\n\u001b[1;32m    152\u001b[0m         \u001b[0;32mif\u001b[0m \u001b[0mscale_tril\u001b[0m \u001b[0;32mis\u001b[0m \u001b[0;32mnot\u001b[0m \u001b[0;32mNone\u001b[0m\u001b[0;34m:\u001b[0m\u001b[0;34m\u001b[0m\u001b[0;34m\u001b[0m\u001b[0m\n",
      "\u001b[0;32m~/.local/lib/python3.10/site-packages/torch/distributions/distribution.py\u001b[0m in \u001b[0;36m__init__\u001b[0;34m(self, batch_shape, event_shape, validate_args)\u001b[0m\n\u001b[1;32m     60\u001b[0m                 \u001b[0mvalid\u001b[0m \u001b[0;34m=\u001b[0m \u001b[0mconstraint\u001b[0m\u001b[0;34m.\u001b[0m\u001b[0mcheck\u001b[0m\u001b[0;34m(\u001b[0m\u001b[0mvalue\u001b[0m\u001b[0;34m)\u001b[0m\u001b[0;34m\u001b[0m\u001b[0;34m\u001b[0m\u001b[0m\n\u001b[1;32m     61\u001b[0m                 \u001b[0;32mif\u001b[0m \u001b[0;32mnot\u001b[0m \u001b[0mvalid\u001b[0m\u001b[0;34m.\u001b[0m\u001b[0mall\u001b[0m\u001b[0;34m(\u001b[0m\u001b[0;34m)\u001b[0m\u001b[0;34m:\u001b[0m\u001b[0;34m\u001b[0m\u001b[0;34m\u001b[0m\u001b[0m\n\u001b[0;32m---> 62\u001b[0;31m                     raise ValueError(\n\u001b[0m\u001b[1;32m     63\u001b[0m                         \u001b[0;34mf\"Expected parameter {param} \"\u001b[0m\u001b[0;34m\u001b[0m\u001b[0;34m\u001b[0m\u001b[0m\n\u001b[1;32m     64\u001b[0m                         \u001b[0;34mf\"({type(value).__name__} of shape {tuple(value.shape)}) \"\u001b[0m\u001b[0;34m\u001b[0m\u001b[0;34m\u001b[0m\u001b[0m\n",
      "\u001b[0;31mValueError\u001b[0m: Expected parameter loc (Tensor of shape (5, 3)) of distribution MultivariateNormal(loc: torch.Size([5, 3]), covariance_matrix: torch.Size([5, 3, 3])) to satisfy the constraint IndependentConstraint(Real(), 1), but found invalid values:\ntensor([[0.5666, 0.5275, 0.4976],\n        [   nan,    nan,    nan],\n        [0.7122, 0.5017, 0.2116],\n        [0.4394, 0.5327, 0.4991],\n        [0.4911, 0.4609, 0.4928]], dtype=torch.float64)"
     ]
    }
   ],
   "source": [
    "ghsmm = GaussianHSMM(n_states=5,\n",
    "                     max_duration=5,\n",
    "                    n_features=3,\n",
    "                    params_init=True,\n",
    "                    device=torch.device('cpu'))\n",
    "train_seq = torch.rand(100,3, dtype=torch.float64)\n",
    "dist_models = ghsmm.fit(X=train_seq,max_iter=15, n_init=1)\n",
    "\n",
    "print('Model AIC: {:.2f}'.format(ghsmm.ic(train_seq)))"
   ]
  },
  {
   "cell_type": "code",
   "execution_count": 22,
   "metadata": {},
   "outputs": [
    {
     "name": "stdout",
     "output_type": "stream",
     "text": [
      "Run 1 | Initialization | Score: -433.30\n",
      "Run 1 | Iteration: 1 | Score: -68.53 | Delta: 364.77 | Converged = False\n",
      "Run 1 | Iteration: 2 | Score: -67.96 | Delta: 0.57 | Converged = False\n",
      "Run 1 | Iteration: 3 | Score: -65.96 | Delta: 2.00 | Converged = False\n",
      "Run 1 | Iteration: 4 | Score: -61.60 | Delta: 4.36 | Converged = False\n",
      "Run 1 | Iteration: 5 | Score: -56.18 | Delta: 5.43 | Converged = False\n",
      "Run 1 | Iteration: 6 | Score: -49.51 | Delta: 6.66 | Converged = False\n",
      "Run 1 | Iteration: 7 | Score: -40.28 | Delta: 9.23 | Converged = False\n",
      "Run 1 | Iteration: 8 | Score: -28.07 | Delta: 12.21 | Converged = False\n"
     ]
    },
    {
     "ename": "ValueError",
     "evalue": "Expected parameter loc (Tensor of shape (5, 3, 4)) of distribution MultivariateNormal(loc: torch.Size([5, 3, 4]), covariance_matrix: torch.Size([5, 3, 4, 4])) to satisfy the constraint IndependentConstraint(Real(), 1), but found invalid values:\ntensor([[[0.5167, 0.5282, 0.3787, 0.4550],\n         [0.5167, 0.5282, 0.3787, 0.4550],\n         [0.5167, 0.5282, 0.3787, 0.4550]],\n\n        [[   nan,    nan,    nan,    nan],\n         [   nan,    nan,    nan,    nan],\n         [   nan,    nan,    nan,    nan]],\n\n        [[   nan,    nan,    nan,    nan],\n         [   nan,    nan,    nan,    nan],\n         [   nan,    nan,    nan,    nan]],\n\n        [[   nan,    nan,    nan,    nan],\n         [   nan,    nan,    nan,    nan],\n         [   nan,    nan,    nan,    nan]],\n\n        [[0.6011, 0.4505, 0.3509, 0.4087],\n         [0.6011, 0.4505, 0.3509, 0.4087],\n         [0.6011, 0.4505, 0.3509, 0.4087]]], dtype=torch.float64)",
     "output_type": "error",
     "traceback": [
      "\u001b[0;31m---------------------------------------------------------------------------\u001b[0m",
      "\u001b[0;31mValueError\u001b[0m                                Traceback (most recent call last)",
      "\u001b[0;32m/tmp/ipykernel_50807/2080080231.py\u001b[0m in \u001b[0;36m<module>\u001b[0;34m\u001b[0m\n\u001b[1;32m      6\u001b[0m                            device=torch.device('cpu'))\n\u001b[1;32m      7\u001b[0m \u001b[0mtrain_seq\u001b[0m \u001b[0;34m=\u001b[0m \u001b[0mtorch\u001b[0m\u001b[0;34m.\u001b[0m\u001b[0mrand\u001b[0m\u001b[0;34m(\u001b[0m\u001b[0;36m100\u001b[0m\u001b[0;34m,\u001b[0m\u001b[0;36m4\u001b[0m\u001b[0;34m,\u001b[0m \u001b[0mdtype\u001b[0m\u001b[0;34m=\u001b[0m\u001b[0mtorch\u001b[0m\u001b[0;34m.\u001b[0m\u001b[0mfloat64\u001b[0m\u001b[0;34m)\u001b[0m\u001b[0;34m\u001b[0m\u001b[0;34m\u001b[0m\u001b[0m\n\u001b[0;32m----> 8\u001b[0;31m \u001b[0mdist_model\u001b[0m \u001b[0;34m=\u001b[0m \u001b[0mgmhsmm\u001b[0m\u001b[0;34m.\u001b[0m\u001b[0mfit\u001b[0m\u001b[0;34m(\u001b[0m\u001b[0mX\u001b[0m\u001b[0;34m=\u001b[0m\u001b[0mtrain_seq\u001b[0m\u001b[0;34m,\u001b[0m\u001b[0mmax_iter\u001b[0m\u001b[0;34m=\u001b[0m\u001b[0;36m15\u001b[0m\u001b[0;34m,\u001b[0m \u001b[0mn_init\u001b[0m\u001b[0;34m=\u001b[0m\u001b[0;36m1\u001b[0m\u001b[0;34m)\u001b[0m\u001b[0;34m\u001b[0m\u001b[0;34m\u001b[0m\u001b[0m\n\u001b[0m\u001b[1;32m      9\u001b[0m \u001b[0;34m\u001b[0m\u001b[0m\n\u001b[1;32m     10\u001b[0m \u001b[0mprint\u001b[0m\u001b[0;34m(\u001b[0m\u001b[0;34m'Model AIC: {:.2f}'\u001b[0m\u001b[0;34m.\u001b[0m\u001b[0mformat\u001b[0m\u001b[0;34m(\u001b[0m\u001b[0mgmhsmm\u001b[0m\u001b[0;34m.\u001b[0m\u001b[0mic\u001b[0m\u001b[0;34m(\u001b[0m\u001b[0mtrain_seq\u001b[0m\u001b[0;34m)\u001b[0m\u001b[0;34m)\u001b[0m\u001b[0;34m)\u001b[0m\u001b[0;34m\u001b[0m\u001b[0;34m\u001b[0m\u001b[0m\n",
      "\u001b[0;32m~/ChadHMM/chadhmm/hsmm/BaseHSMM.py\u001b[0m in \u001b[0;36mfit\u001b[0;34m(self, X, tol, max_iter, n_init, post_conv_iter, ignore_conv, sample_B_from_X, verbose, plot_conv, lengths, theta)\u001b[0m\n\u001b[1;32m    391\u001b[0m \u001b[0;34m\u001b[0m\u001b[0m\n\u001b[1;32m    392\u001b[0m                 \u001b[0;31m# remap emission probabilities after update of B\u001b[0m\u001b[0;34m\u001b[0m\u001b[0;34m\u001b[0m\u001b[0m\n\u001b[0;32m--> 393\u001b[0;31m                 \u001b[0mX_valid\u001b[0m\u001b[0;34m.\u001b[0m\u001b[0mlog_probs\u001b[0m \u001b[0;34m=\u001b[0m \u001b[0;34m[\u001b[0m\u001b[0mself\u001b[0m\u001b[0;34m.\u001b[0m\u001b[0mmap_emission\u001b[0m\u001b[0;34m(\u001b[0m\u001b[0mx\u001b[0m\u001b[0;34m)\u001b[0m \u001b[0;32mfor\u001b[0m \u001b[0mx\u001b[0m \u001b[0;32min\u001b[0m \u001b[0mX_valid\u001b[0m\u001b[0;34m.\u001b[0m\u001b[0mX\u001b[0m\u001b[0;34m]\u001b[0m\u001b[0;34m\u001b[0m\u001b[0;34m\u001b[0m\u001b[0m\n\u001b[0m\u001b[1;32m    394\u001b[0m \u001b[0;34m\u001b[0m\u001b[0m\n\u001b[1;32m    395\u001b[0m                 \u001b[0mcurr_log_like\u001b[0m \u001b[0;34m=\u001b[0m \u001b[0msum\u001b[0m\u001b[0;34m(\u001b[0m\u001b[0mself\u001b[0m\u001b[0;34m.\u001b[0m\u001b[0m_compute_log_likelihood\u001b[0m\u001b[0;34m(\u001b[0m\u001b[0mX_valid\u001b[0m\u001b[0;34m)\u001b[0m\u001b[0;34m)\u001b[0m\u001b[0;34m\u001b[0m\u001b[0;34m\u001b[0m\u001b[0m\n",
      "\u001b[0;32m~/ChadHMM/chadhmm/hsmm/BaseHSMM.py\u001b[0m in \u001b[0;36m<listcomp>\u001b[0;34m(.0)\u001b[0m\n\u001b[1;32m    391\u001b[0m \u001b[0;34m\u001b[0m\u001b[0m\n\u001b[1;32m    392\u001b[0m                 \u001b[0;31m# remap emission probabilities after update of B\u001b[0m\u001b[0;34m\u001b[0m\u001b[0;34m\u001b[0m\u001b[0m\n\u001b[0;32m--> 393\u001b[0;31m                 \u001b[0mX_valid\u001b[0m\u001b[0;34m.\u001b[0m\u001b[0mlog_probs\u001b[0m \u001b[0;34m=\u001b[0m \u001b[0;34m[\u001b[0m\u001b[0mself\u001b[0m\u001b[0;34m.\u001b[0m\u001b[0mmap_emission\u001b[0m\u001b[0;34m(\u001b[0m\u001b[0mx\u001b[0m\u001b[0;34m)\u001b[0m \u001b[0;32mfor\u001b[0m \u001b[0mx\u001b[0m \u001b[0;32min\u001b[0m \u001b[0mX_valid\u001b[0m\u001b[0;34m.\u001b[0m\u001b[0mX\u001b[0m\u001b[0;34m]\u001b[0m\u001b[0;34m\u001b[0m\u001b[0;34m\u001b[0m\u001b[0m\n\u001b[0m\u001b[1;32m    394\u001b[0m \u001b[0;34m\u001b[0m\u001b[0m\n\u001b[1;32m    395\u001b[0m                 \u001b[0mcurr_log_like\u001b[0m \u001b[0;34m=\u001b[0m \u001b[0msum\u001b[0m\u001b[0;34m(\u001b[0m\u001b[0mself\u001b[0m\u001b[0;34m.\u001b[0m\u001b[0m_compute_log_likelihood\u001b[0m\u001b[0;34m(\u001b[0m\u001b[0mX_valid\u001b[0m\u001b[0;34m)\u001b[0m\u001b[0;34m)\u001b[0m\u001b[0;34m\u001b[0m\u001b[0;34m\u001b[0m\u001b[0m\n",
      "\u001b[0;32m~/ChadHMM/chadhmm/hsmm/GaussianHSMM.py\u001b[0m in \u001b[0;36mmap_emission\u001b[0;34m(self, emission)\u001b[0m\n\u001b[1;32m    193\u001b[0m \u001b[0;34m\u001b[0m\u001b[0m\n\u001b[1;32m    194\u001b[0m     \u001b[0;32mdef\u001b[0m \u001b[0mmap_emission\u001b[0m\u001b[0;34m(\u001b[0m\u001b[0mself\u001b[0m\u001b[0;34m,\u001b[0m \u001b[0memission\u001b[0m\u001b[0;34m)\u001b[0m\u001b[0;34m:\u001b[0m\u001b[0;34m\u001b[0m\u001b[0;34m\u001b[0m\u001b[0m\n\u001b[0;32m--> 195\u001b[0;31m         \u001b[0;32mreturn\u001b[0m \u001b[0mGaussianMixtureEmissions\u001b[0m\u001b[0;34m.\u001b[0m\u001b[0mmap_emission\u001b[0m\u001b[0;34m(\u001b[0m\u001b[0mself\u001b[0m\u001b[0;34m,\u001b[0m\u001b[0memission\u001b[0m\u001b[0;34m)\u001b[0m\u001b[0;34m\u001b[0m\u001b[0;34m\u001b[0m\u001b[0m\n\u001b[0m\u001b[1;32m    196\u001b[0m \u001b[0;34m\u001b[0m\u001b[0m\n\u001b[1;32m    197\u001b[0m     \u001b[0;32mdef\u001b[0m \u001b[0msample_B_params\u001b[0m\u001b[0;34m(\u001b[0m\u001b[0mself\u001b[0m\u001b[0;34m,\u001b[0m\u001b[0mX\u001b[0m\u001b[0;34m,\u001b[0m\u001b[0mseed\u001b[0m\u001b[0;34m=\u001b[0m\u001b[0;32mNone\u001b[0m\u001b[0;34m)\u001b[0m\u001b[0;34m:\u001b[0m\u001b[0;34m\u001b[0m\u001b[0;34m\u001b[0m\u001b[0m\n",
      "\u001b[0;32m~/ChadHMM/chadhmm/emissions/mixtures.py\u001b[0m in \u001b[0;36mmap_emission\u001b[0;34m(self, x)\u001b[0m\n\u001b[1;32m     88\u001b[0m                      x:torch.Tensor) -> torch.Tensor:\n\u001b[1;32m     89\u001b[0m         \u001b[0mx_batched\u001b[0m \u001b[0;34m=\u001b[0m \u001b[0mx\u001b[0m\u001b[0;34m.\u001b[0m\u001b[0munsqueeze\u001b[0m\u001b[0;34m(\u001b[0m\u001b[0;36m1\u001b[0m\u001b[0;34m)\u001b[0m\u001b[0;34m.\u001b[0m\u001b[0mexpand\u001b[0m\u001b[0;34m(\u001b[0m\u001b[0;34m-\u001b[0m\u001b[0;36m1\u001b[0m\u001b[0;34m,\u001b[0m\u001b[0mself\u001b[0m\u001b[0;34m.\u001b[0m\u001b[0mn_dims\u001b[0m\u001b[0;34m,\u001b[0m\u001b[0;34m-\u001b[0m\u001b[0;36m1\u001b[0m\u001b[0;34m)\u001b[0m\u001b[0;34m\u001b[0m\u001b[0;34m\u001b[0m\u001b[0m\n\u001b[0;32m---> 90\u001b[0;31m         \u001b[0;32mreturn\u001b[0m \u001b[0mself\u001b[0m\u001b[0;34m.\u001b[0m\u001b[0mmixture_pdf\u001b[0m\u001b[0;34m.\u001b[0m\u001b[0mlog_prob\u001b[0m\u001b[0;34m(\u001b[0m\u001b[0mx_batched\u001b[0m\u001b[0;34m)\u001b[0m\u001b[0;34m\u001b[0m\u001b[0;34m\u001b[0m\u001b[0m\n\u001b[0m\u001b[1;32m     91\u001b[0m \u001b[0;34m\u001b[0m\u001b[0m\n\u001b[1;32m     92\u001b[0m     \u001b[0;32mdef\u001b[0m \u001b[0m_compute_responsibilities\u001b[0m\u001b[0;34m(\u001b[0m\u001b[0mself\u001b[0m\u001b[0;34m,\u001b[0m \u001b[0mX\u001b[0m\u001b[0;34m:\u001b[0m\u001b[0mList\u001b[0m\u001b[0;34m[\u001b[0m\u001b[0mtorch\u001b[0m\u001b[0;34m.\u001b[0m\u001b[0mTensor\u001b[0m\u001b[0;34m]\u001b[0m\u001b[0;34m)\u001b[0m \u001b[0;34m->\u001b[0m \u001b[0mList\u001b[0m\u001b[0;34m[\u001b[0m\u001b[0mtorch\u001b[0m\u001b[0;34m.\u001b[0m\u001b[0mTensor\u001b[0m\u001b[0;34m]\u001b[0m\u001b[0;34m:\u001b[0m\u001b[0;34m\u001b[0m\u001b[0;34m\u001b[0m\u001b[0m\n",
      "\u001b[0;32m~/ChadHMM/chadhmm/emissions/mixtures.py\u001b[0m in \u001b[0;36mmixture_pdf\u001b[0;34m(self)\u001b[0m\n\u001b[1;32m     55\u001b[0m         \u001b[0;34m\"\"\"Return the emission distribution for Gaussian Mixture Distribution.\"\"\"\u001b[0m\u001b[0;34m\u001b[0m\u001b[0;34m\u001b[0m\u001b[0m\n\u001b[1;32m     56\u001b[0m         return MixtureSameFamily(mixture_distribution = self.weights._dist,\n\u001b[0;32m---> 57\u001b[0;31m                                  component_distribution = self.pdf)\n\u001b[0m\u001b[1;32m     58\u001b[0m \u001b[0;34m\u001b[0m\u001b[0m\n\u001b[1;32m     59\u001b[0m     \u001b[0;34m@\u001b[0m\u001b[0mabstractproperty\u001b[0m\u001b[0;34m\u001b[0m\u001b[0;34m\u001b[0m\u001b[0m\n",
      "\u001b[0;32m~/ChadHMM/chadhmm/emissions/mixtures.py\u001b[0m in \u001b[0;36mpdf\u001b[0;34m(self)\u001b[0m\n\u001b[1;32m    193\u001b[0m     \u001b[0;34m@\u001b[0m\u001b[0mproperty\u001b[0m\u001b[0;34m\u001b[0m\u001b[0;34m\u001b[0m\u001b[0m\n\u001b[1;32m    194\u001b[0m     \u001b[0;32mdef\u001b[0m \u001b[0mpdf\u001b[0m\u001b[0;34m(\u001b[0m\u001b[0mself\u001b[0m\u001b[0;34m)\u001b[0m\u001b[0;34m:\u001b[0m\u001b[0;34m\u001b[0m\u001b[0;34m\u001b[0m\u001b[0m\n\u001b[0;32m--> 195\u001b[0;31m         \u001b[0;32mreturn\u001b[0m \u001b[0mtorch\u001b[0m\u001b[0;34m.\u001b[0m\u001b[0mdistributions\u001b[0m\u001b[0;34m.\u001b[0m\u001b[0mMultivariateNormal\u001b[0m\u001b[0;34m(\u001b[0m\u001b[0mself\u001b[0m\u001b[0;34m.\u001b[0m\u001b[0mmeans\u001b[0m\u001b[0;34m,\u001b[0m\u001b[0mself\u001b[0m\u001b[0;34m.\u001b[0m\u001b[0mcovs\u001b[0m\u001b[0;34m)\u001b[0m\u001b[0;34m\u001b[0m\u001b[0;34m\u001b[0m\u001b[0m\n\u001b[0m\u001b[1;32m    196\u001b[0m \u001b[0;34m\u001b[0m\u001b[0m\n\u001b[1;32m    197\u001b[0m     \u001b[0;34m@\u001b[0m\u001b[0mproperty\u001b[0m\u001b[0;34m\u001b[0m\u001b[0;34m\u001b[0m\u001b[0m\n",
      "\u001b[0;32m~/.local/lib/python3.10/site-packages/torch/distributions/multivariate_normal.py\u001b[0m in \u001b[0;36m__init__\u001b[0;34m(self, loc, covariance_matrix, precision_matrix, scale_tril, validate_args)\u001b[0m\n\u001b[1;32m    148\u001b[0m \u001b[0;34m\u001b[0m\u001b[0m\n\u001b[1;32m    149\u001b[0m         \u001b[0mevent_shape\u001b[0m \u001b[0;34m=\u001b[0m \u001b[0mself\u001b[0m\u001b[0;34m.\u001b[0m\u001b[0mloc\u001b[0m\u001b[0;34m.\u001b[0m\u001b[0mshape\u001b[0m\u001b[0;34m[\u001b[0m\u001b[0;34m-\u001b[0m\u001b[0;36m1\u001b[0m\u001b[0;34m:\u001b[0m\u001b[0;34m]\u001b[0m\u001b[0;34m\u001b[0m\u001b[0;34m\u001b[0m\u001b[0m\n\u001b[0;32m--> 150\u001b[0;31m         \u001b[0msuper\u001b[0m\u001b[0;34m(\u001b[0m\u001b[0;34m)\u001b[0m\u001b[0;34m.\u001b[0m\u001b[0m__init__\u001b[0m\u001b[0;34m(\u001b[0m\u001b[0mbatch_shape\u001b[0m\u001b[0;34m,\u001b[0m \u001b[0mevent_shape\u001b[0m\u001b[0;34m,\u001b[0m \u001b[0mvalidate_args\u001b[0m\u001b[0;34m=\u001b[0m\u001b[0mvalidate_args\u001b[0m\u001b[0;34m)\u001b[0m\u001b[0;34m\u001b[0m\u001b[0;34m\u001b[0m\u001b[0m\n\u001b[0m\u001b[1;32m    151\u001b[0m \u001b[0;34m\u001b[0m\u001b[0m\n\u001b[1;32m    152\u001b[0m         \u001b[0;32mif\u001b[0m \u001b[0mscale_tril\u001b[0m \u001b[0;32mis\u001b[0m \u001b[0;32mnot\u001b[0m \u001b[0;32mNone\u001b[0m\u001b[0;34m:\u001b[0m\u001b[0;34m\u001b[0m\u001b[0;34m\u001b[0m\u001b[0m\n",
      "\u001b[0;32m~/.local/lib/python3.10/site-packages/torch/distributions/distribution.py\u001b[0m in \u001b[0;36m__init__\u001b[0;34m(self, batch_shape, event_shape, validate_args)\u001b[0m\n\u001b[1;32m     60\u001b[0m                 \u001b[0mvalid\u001b[0m \u001b[0;34m=\u001b[0m \u001b[0mconstraint\u001b[0m\u001b[0;34m.\u001b[0m\u001b[0mcheck\u001b[0m\u001b[0;34m(\u001b[0m\u001b[0mvalue\u001b[0m\u001b[0;34m)\u001b[0m\u001b[0;34m\u001b[0m\u001b[0;34m\u001b[0m\u001b[0m\n\u001b[1;32m     61\u001b[0m                 \u001b[0;32mif\u001b[0m \u001b[0;32mnot\u001b[0m \u001b[0mvalid\u001b[0m\u001b[0;34m.\u001b[0m\u001b[0mall\u001b[0m\u001b[0;34m(\u001b[0m\u001b[0;34m)\u001b[0m\u001b[0;34m:\u001b[0m\u001b[0;34m\u001b[0m\u001b[0;34m\u001b[0m\u001b[0m\n\u001b[0;32m---> 62\u001b[0;31m                     raise ValueError(\n\u001b[0m\u001b[1;32m     63\u001b[0m                         \u001b[0;34mf\"Expected parameter {param} \"\u001b[0m\u001b[0;34m\u001b[0m\u001b[0;34m\u001b[0m\u001b[0m\n\u001b[1;32m     64\u001b[0m                         \u001b[0;34mf\"({type(value).__name__} of shape {tuple(value.shape)}) \"\u001b[0m\u001b[0;34m\u001b[0m\u001b[0;34m\u001b[0m\u001b[0m\n",
      "\u001b[0;31mValueError\u001b[0m: Expected parameter loc (Tensor of shape (5, 3, 4)) of distribution MultivariateNormal(loc: torch.Size([5, 3, 4]), covariance_matrix: torch.Size([5, 3, 4, 4])) to satisfy the constraint IndependentConstraint(Real(), 1), but found invalid values:\ntensor([[[0.5167, 0.5282, 0.3787, 0.4550],\n         [0.5167, 0.5282, 0.3787, 0.4550],\n         [0.5167, 0.5282, 0.3787, 0.4550]],\n\n        [[   nan,    nan,    nan,    nan],\n         [   nan,    nan,    nan,    nan],\n         [   nan,    nan,    nan,    nan]],\n\n        [[   nan,    nan,    nan,    nan],\n         [   nan,    nan,    nan,    nan],\n         [   nan,    nan,    nan,    nan]],\n\n        [[   nan,    nan,    nan,    nan],\n         [   nan,    nan,    nan,    nan],\n         [   nan,    nan,    nan,    nan]],\n\n        [[0.6011, 0.4505, 0.3509, 0.4087],\n         [0.6011, 0.4505, 0.3509, 0.4087],\n         [0.6011, 0.4505, 0.3509, 0.4087]]], dtype=torch.float64)"
     ]
    }
   ],
   "source": [
    "gmhsmm = GaussianMixtureHSMM(n_states=5, \n",
    "                           max_duration=5,\n",
    "                           n_components=3,\n",
    "                           n_features=4,\n",
    "                           params_init=True,\n",
    "                           device=torch.device('cpu'))\n",
    "train_seq = torch.rand(100,4, dtype=torch.float64)\n",
    "dist_model = gmhsmm.fit(X=train_seq,max_iter=15, n_init=1)\n",
    "\n",
    "print('Model AIC: {:.2f}'.format(gmhsmm.ic(train_seq)))"
   ]
  },
  {
   "cell_type": "markdown",
   "metadata": {},
   "source": [
    "Guassian Mixtures"
   ]
  },
  {
   "cell_type": "code",
   "execution_count": 1,
   "metadata": {},
   "outputs": [],
   "source": [
    "import torch\n",
    "from src.MixtureModels import GaussianMixtureModel"
   ]
  },
  {
   "cell_type": "code",
   "execution_count": 2,
   "metadata": {},
   "outputs": [
    {
     "name": "stdout",
     "output_type": "stream",
     "text": [
      "Run 1 | Initialization | Score: -2169.87\n",
      "Run 1 | Iteration: 1 | Score: -406.03 | Delta: 1763.84 | Converged = False\n",
      "Run 1 | Iteration: 2 | Score: -406.03 | Delta: 0.00 | Converged = False\n",
      "Run 1 | Iteration: 3 | Score: -406.03 | Delta: -0.00 | Converged = False\n",
      "Run 1 | Iteration: 4 | Score: -406.03 | Delta: 0.00 | Converged = False\n"
     ]
    }
   ],
   "source": [
    "gmm = GaussianMixtureModel(n_dims=1,\n",
    "                           n_components=3,\n",
    "                           n_features=2,\n",
    "                           seed=15,\n",
    "                           min_covar=1e-3,\n",
    "                           device=torch.device('cpu'))\n",
    "\n",
    "X = torch.rand(1000,2, dtype=torch.float64)\n",
    "mod = gmm.fit(X,max_iter=4,verbose=True)"
   ]
  }
 ],
 "metadata": {
  "kernelspec": {
   "display_name": "hmm",
   "language": "python",
   "name": "python3"
  },
  "language_info": {
   "codemirror_mode": {
    "name": "ipython",
    "version": 3
   },
   "file_extension": ".py",
   "mimetype": "text/x-python",
   "name": "python",
   "nbconvert_exporter": "python",
   "pygments_lexer": "ipython3",
   "version": "3.10.12"
  }
 },
 "nbformat": 4,
 "nbformat_minor": 2
}
