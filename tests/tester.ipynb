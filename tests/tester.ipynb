{
 "cells": [
  {
   "cell_type": "markdown",
   "metadata": {},
   "source": [
    "### Hidden Markov Models"
   ]
  },
  {
   "cell_type": "code",
   "execution_count": 4,
   "metadata": {},
   "outputs": [],
   "source": [
    "import torch\n",
    "from chadhmm import CategoricalHMM, GaussianHMM, GaussianMixtureHMM"
   ]
  },
  {
   "cell_type": "code",
   "execution_count": 7,
   "metadata": {},
   "outputs": [
    {
     "name": "stdout",
     "output_type": "stream",
     "text": [
      "Run 1 | Initialization | Score: -164.63\n",
      "Run 1 | Iteration: 1 | Score: -137.80 | Delta: 26.84 | Converged = False\n",
      "Run 1 | Iteration: 2 | Score: -137.35 | Delta: 0.45 | Converged = False\n",
      "Run 1 | Iteration: 3 | Score: -137.12 | Delta: 0.23 | Converged = False\n",
      "Run 1 | Iteration: 4 | Score: -136.98 | Delta: 0.13 | Converged = False\n",
      "Run 1 | Iteration: 5 | Score: -136.89 | Delta: 0.09 | Converged = False\n",
      "Run 1 | Iteration: 6 | Score: -136.81 | Delta: 0.08 | Converged = False\n",
      "Run 1 | Iteration: 7 | Score: -136.72 | Delta: 0.09 | Converged = False\n",
      "Run 1 | Iteration: 8 | Score: -136.61 | Delta: 0.11 | Converged = False\n",
      "Run 1 | Iteration: 9 | Score: -136.47 | Delta: 0.14 | Converged = False\n",
      "Run 1 | Iteration: 10 | Score: -136.28 | Delta: 0.19 | Converged = False\n",
      "Run 1 | Iteration: 11 | Score: -136.06 | Delta: 0.22 | Converged = False\n",
      "Run 1 | Iteration: 12 | Score: -135.82 | Delta: 0.24 | Converged = False\n",
      "Run 1 | Iteration: 13 | Score: -135.59 | Delta: 0.23 | Converged = False\n",
      "Run 1 | Iteration: 14 | Score: -135.38 | Delta: 0.21 | Converged = False\n",
      "Run 1 | Iteration: 15 | Score: -135.20 | Delta: 0.18 | Converged = False\n"
     ]
    },
    {
     "ename": "ValueError",
     "evalue": "not enough values to unpack (expected 2, got 1)",
     "output_type": "error",
     "traceback": [
      "\u001b[0;31m---------------------------------------------------------------------------\u001b[0m",
      "\u001b[0;31mValueError\u001b[0m                                Traceback (most recent call last)",
      "Cell \u001b[0;32mIn[7], line 10\u001b[0m\n\u001b[1;32m      7\u001b[0m theta \u001b[38;5;241m=\u001b[39m torch\u001b[38;5;241m.\u001b[39mrand((\u001b[38;5;241m5\u001b[39m,\u001b[38;5;241m1\u001b[39m))\n\u001b[1;32m      8\u001b[0m dist_models \u001b[38;5;241m=\u001b[39m hmm\u001b[38;5;241m.\u001b[39mfit(train_seq,max_iter\u001b[38;5;241m=\u001b[39m\u001b[38;5;241m15\u001b[39m, n_init\u001b[38;5;241m=\u001b[39m\u001b[38;5;241m1\u001b[39m)\n\u001b[0;32m---> 10\u001b[0m \u001b[43mhmm\u001b[49m\u001b[38;5;241;43m.\u001b[39;49m\u001b[43mpredict\u001b[49m\u001b[43m(\u001b[49m\u001b[43mtrain_seq\u001b[49m\u001b[43m,\u001b[49m\u001b[43m \u001b[49m\u001b[43malgorithm\u001b[49m\u001b[38;5;241;43m=\u001b[39;49m\u001b[38;5;124;43m'\u001b[39;49m\u001b[38;5;124;43mmap\u001b[39;49m\u001b[38;5;124;43m'\u001b[39;49m\u001b[43m)\u001b[49m\n\u001b[1;32m     11\u001b[0m \u001b[38;5;28mprint\u001b[39m(\u001b[38;5;124m'\u001b[39m\u001b[38;5;124mModel AIC: \u001b[39m\u001b[38;5;132;01m{:.2f}\u001b[39;00m\u001b[38;5;124m'\u001b[39m\u001b[38;5;241m.\u001b[39mformat(hmm\u001b[38;5;241m.\u001b[39mic(train_seq)))\n",
      "File \u001b[0;32m~/anaconda3/envs/hmm/lib/python3.8/site-packages/chadhmm/hmm/BaseHMM.py:366\u001b[0m, in \u001b[0;36mBaseHMM.predict\u001b[0;34m(self, X, lengths, algorithm)\u001b[0m\n\u001b[1;32m    364\u001b[0m X_valid \u001b[38;5;241m=\u001b[39m \u001b[38;5;28mself\u001b[39m\u001b[38;5;241m.\u001b[39mto_observations(X, lengths)\n\u001b[1;32m    365\u001b[0m log_score \u001b[38;5;241m=\u001b[39m \u001b[38;5;28msum\u001b[39m(\u001b[38;5;28mself\u001b[39m\u001b[38;5;241m.\u001b[39m_compute_log_likelihood(X_valid))\n\u001b[0;32m--> 366\u001b[0m decoded_path \u001b[38;5;241m=\u001b[39m \u001b[43mdecoder\u001b[49m\u001b[43m(\u001b[49m\u001b[43mX_valid\u001b[49m\u001b[43m)\u001b[49m\n\u001b[1;32m    368\u001b[0m \u001b[38;5;28;01mreturn\u001b[39;00m log_score, decoded_path\n",
      "File \u001b[0;32m~/anaconda3/envs/hmm/lib/python3.8/site-packages/chadhmm/hmm/BaseHMM.py:246\u001b[0m, in \u001b[0;36mBaseHMM._map\u001b[0;34m(self, X)\u001b[0m\n\u001b[1;32m    244\u001b[0m \u001b[38;5;250m\u001b[39m\u001b[38;5;124;03m\"\"\"Compute the most likely (MAP) sequence of indiviual hidden states.\"\"\"\u001b[39;00m\n\u001b[1;32m    245\u001b[0m map_paths \u001b[38;5;241m=\u001b[39m []\n\u001b[0;32m--> 246\u001b[0m \u001b[38;5;28;01mfor\u001b[39;00m gamma,_ \u001b[38;5;129;01min\u001b[39;00m \u001b[38;5;28mself\u001b[39m\u001b[38;5;241m.\u001b[39m_compute_posteriors(X):\n\u001b[1;32m    247\u001b[0m     map_paths\u001b[38;5;241m.\u001b[39mappend(torch\u001b[38;5;241m.\u001b[39margmax(gamma, dim\u001b[38;5;241m=\u001b[39m\u001b[38;5;241m1\u001b[39m))\n\u001b[1;32m    248\u001b[0m \u001b[38;5;28;01mreturn\u001b[39;00m map_paths\n",
      "\u001b[0;31mValueError\u001b[0m: not enough values to unpack (expected 2, got 1)"
     ]
    }
   ],
   "source": [
    "hmm = CategoricalHMM(n_states=3,\n",
    "                     n_features=4,\n",
    "                     params_init=True,\n",
    "                     seed=18,\n",
    "                     device=torch.device('cpu'))\n",
    "train_seq = torch.randint(0, 4, (100,))\n",
    "theta = torch.rand((5,1))\n",
    "dist_models = hmm.fit(train_seq,max_iter=15, n_init=1)\n",
    "\n",
    "print('Model AIC: {:.2f}'.format(hmm.ic(train_seq)))"
   ]
  },
  {
   "cell_type": "code",
   "execution_count": 3,
   "metadata": {},
   "outputs": [
    {
     "name": "stdout",
     "output_type": "stream",
     "text": [
      "Run 1 | Initialization | Score: -3252.01\n",
      "Run 1 | Iteration: 1 | Score: -589.79 | Delta: 2662.22 | Converged = False\n",
      "Run 1 | Iteration: 2 | Score: -589.78 | Delta: 0.01 | Converged = False\n",
      "Run 1 | Iteration: 3 | Score: -589.77 | Delta: 0.01 | Converged = False\n",
      "Run 1 | Iteration: 4 | Score: -589.75 | Delta: 0.02 | Converged = False\n",
      "Run 1 | Iteration: 5 | Score: -589.73 | Delta: 0.02 | Converged = False\n",
      "Run 1 | Iteration: 6 | Score: -589.70 | Delta: 0.03 | Converged = False\n",
      "Run 1 | Iteration: 7 | Score: -589.66 | Delta: 0.04 | Converged = False\n",
      "Run 1 | Iteration: 8 | Score: -589.62 | Delta: 0.05 | Converged = False\n",
      "Run 1 | Iteration: 9 | Score: -589.56 | Delta: 0.06 | Converged = False\n",
      "Run 1 | Iteration: 10 | Score: -589.49 | Delta: 0.07 | Converged = False\n",
      "Run 1 | Iteration: 11 | Score: -589.41 | Delta: 0.08 | Converged = False\n",
      "Run 1 | Iteration: 12 | Score: -589.33 | Delta: 0.09 | Converged = False\n",
      "Run 1 | Iteration: 13 | Score: -589.23 | Delta: 0.10 | Converged = False\n",
      "Run 1 | Iteration: 14 | Score: -589.11 | Delta: 0.11 | Converged = False\n",
      "Run 1 | Iteration: 15 | Score: -588.99 | Delta: 0.12 | Converged = False\n",
      "Model AIC: 1345.98\n"
     ]
    }
   ],
   "source": [
    "gmm = GaussianHMM(n_states=5,\n",
    "                  n_features=3,\n",
    "                  params_init=True,\n",
    "                  seed=15,\n",
    "                  device=torch.device('cpu'))\n",
    "train_seq = torch.rand((1000,3), dtype=torch.float64)\n",
    "dist_models = gmm.fit(X=train_seq,max_iter=15, n_init=1)\n",
    "print('Model AIC: {:.2f}'.format(gmm.ic(train_seq)))"
   ]
  },
  {
   "cell_type": "code",
   "execution_count": 4,
   "metadata": {},
   "outputs": [
    {
     "name": "stdout",
     "output_type": "stream",
     "text": [
      "Run 1 | Initialization | Score: -977.17\n",
      "Run 1 | Iteration: 1 | Score: -128.34 | Delta: 848.83 | Converged = False\n",
      "Run 1 | Iteration: 2 | Score: -126.69 | Delta: 1.66 | Converged = False\n",
      "Run 1 | Iteration: 3 | Score: -123.00 | Delta: 3.68 | Converged = False\n",
      "Run 1 | Iteration: 4 | Score: -114.43 | Delta: 8.57 | Converged = False\n",
      "Run 1 | Iteration: 5 | Score: -94.23 | Delta: 20.20 | Converged = False\n",
      "Run 1 | Iteration: 6 | Score: -59.93 | Delta: 34.29 | Converged = False\n",
      "Run 1 | Iteration: 7 | Score: -31.75 | Delta: 28.18 | Converged = False\n",
      "Run 1 | Iteration: 8 | Score: -15.70 | Delta: 16.06 | Converged = False\n",
      "Run 1 | Iteration: 9 | Score: -7.10 | Delta: 8.59 | Converged = False\n",
      "Run 1 | Iteration: 10 | Score: -1.62 | Delta: 5.48 | Converged = False\n",
      "Run 1 | Iteration: 11 | Score: 0.80 | Delta: 2.42 | Converged = False\n",
      "Run 1 | Iteration: 12 | Score: 1.15 | Delta: 0.35 | Converged = False\n",
      "Run 1 | Iteration: 13 | Score: 1.24 | Delta: 0.09 | Converged = False\n",
      "Run 1 | Iteration: 14 | Score: 1.29 | Delta: 0.04 | Converged = False\n",
      "Run 1 | Iteration: 15 | Score: 1.31 | Delta: 0.02 | Converged = False\n",
      "Model AIC: 2203.38\n"
     ]
    }
   ],
   "source": [
    "gmmm = GaussianMixtureHMM(n_states=4,\n",
    "                         n_components=3,\n",
    "                         n_features=9,\n",
    "                         params_init=True,\n",
    "                         device=torch.device('cpu'))\n",
    "train_seq = torch.rand((100,9),dtype=torch.float64)\n",
    "gmmm.fit(X=train_seq,max_iter=15, n_init=1)\n",
    "\n",
    "print('Model AIC: {:.2f}'.format(gmmm.ic(train_seq)))"
   ]
  },
  {
   "cell_type": "markdown",
   "metadata": {},
   "source": [
    "### Hidden Semi-Markov Models"
   ]
  },
  {
   "cell_type": "code",
   "execution_count": 5,
   "metadata": {},
   "outputs": [],
   "source": [
    "import torch\n",
    "from chadhmm import CategoricalHSMM, GaussianHSMM, GaussianMixtureHSMM"
   ]
  },
  {
   "cell_type": "code",
   "execution_count": 6,
   "metadata": {},
   "outputs": [
    {
     "name": "stdout",
     "output_type": "stream",
     "text": [
      "Run 1 | Initialization | Score: -175.76\n",
      "Run 1 | Iteration: 1 | Score: -158.88 | Delta: 16.88 | Converged = False\n",
      "Run 1 | Iteration: 2 | Score: -156.89 | Delta: 1.99 | Converged = False\n",
      "Run 1 | Iteration: 3 | Score: -155.62 | Delta: 1.27 | Converged = False\n",
      "Run 1 | Iteration: 4 | Score: -154.55 | Delta: 1.07 | Converged = False\n",
      "Run 1 | Iteration: 5 | Score: -153.70 | Delta: 0.86 | Converged = False\n",
      "Run 1 | Iteration: 6 | Score: -153.07 | Delta: 0.63 | Converged = False\n",
      "Run 1 | Iteration: 7 | Score: -152.61 | Delta: 0.46 | Converged = False\n",
      "Run 1 | Iteration: 8 | Score: -152.25 | Delta: 0.35 | Converged = False\n",
      "Run 1 | Iteration: 9 | Score: -151.98 | Delta: 0.27 | Converged = False\n",
      "Run 1 | Iteration: 10 | Score: -151.79 | Delta: 0.19 | Converged = False\n",
      "Run 1 | Iteration: 11 | Score: -151.66 | Delta: 0.13 | Converged = False\n",
      "Run 1 | Iteration: 12 | Score: -151.58 | Delta: 0.08 | Converged = False\n",
      "Run 1 | Iteration: 13 | Score: -151.57 | Delta: 0.01 | Converged = False\n",
      "Run 1 | Iteration: 14 | Score: -151.64 | Delta: -0.07 | Converged = False\n",
      "Run 1 | Iteration: 15 | Score: -151.77 | Delta: -0.13 | Converged = False\n",
      "Model AIC: 356.14\n"
     ]
    }
   ],
   "source": [
    "hsmm = CategoricalHSMM(n_states=3,\n",
    "                  max_duration=5,\n",
    "                  n_emissions=5,\n",
    "                  params_init=True,\n",
    "                  device=torch.device('cpu'))\n",
    "\n",
    "train_seq = torch.randint(0,5,(100,))\n",
    "dist_models = hsmm.fit(X=train_seq,lengths=[20,40,40],max_iter=15, n_init=1)\n",
    "\n",
    "print('Model AIC: {:.2f}'.format(hsmm.ic(train_seq)))"
   ]
  },
  {
   "cell_type": "code",
   "execution_count": 7,
   "metadata": {},
   "outputs": [
    {
     "name": "stdout",
     "output_type": "stream",
     "text": [
      "Run 1 | Initialization | Score: -330.28\n",
      "Run 1 | Iteration: 1 | Score: -57.06 | Delta: 273.22 | Converged = False\n",
      "Run 1 | Iteration: 2 | Score: -57.01 | Delta: 0.05 | Converged = False\n",
      "Run 1 | Iteration: 3 | Score: -56.92 | Delta: 0.09 | Converged = False\n",
      "Run 1 | Iteration: 4 | Score: -56.73 | Delta: 0.19 | Converged = False\n",
      "Run 1 | Iteration: 5 | Score: -56.31 | Delta: 0.42 | Converged = False\n",
      "Run 1 | Iteration: 6 | Score: -55.41 | Delta: 0.90 | Converged = False\n",
      "Run 1 | Iteration: 7 | Score: -53.45 | Delta: 1.95 | Converged = False\n",
      "Run 1 | Iteration: 8 | Score: -49.50 | Delta: 3.95 | Converged = False\n",
      "Run 1 | Iteration: 9 | Score: -44.24 | Delta: 5.26 | Converged = False\n",
      "Run 1 | Iteration: 10 | Score: -39.69 | Delta: 4.54 | Converged = False\n",
      "Run 1 | Iteration: 11 | Score: -34.47 | Delta: 5.22 | Converged = False\n",
      "Run 1 | Iteration: 12 | Score: -28.83 | Delta: 5.64 | Converged = False\n",
      "Run 1 | Iteration: 13 | Score: -24.47 | Delta: 4.37 | Converged = False\n",
      "Run 1 | Iteration: 14 | Score: -20.20 | Delta: 4.27 | Converged = False\n"
     ]
    },
    {
     "ename": "ValueError",
     "evalue": "Expected parameter loc (Tensor of shape (5, 3)) of distribution MultivariateNormal(loc: torch.Size([5, 3]), covariance_matrix: torch.Size([5, 3, 3])) to satisfy the constraint IndependentConstraint(Real(), 1), but found invalid values:\ntensor([[   nan,    nan,    nan],\n        [   nan,    nan,    nan],\n        [0.4868, 0.5639, 0.5312],\n        [   nan,    nan,    nan],\n        [   nan,    nan,    nan]], dtype=torch.float64)",
     "output_type": "error",
     "traceback": [
      "\u001b[0;31m---------------------------------------------------------------------------\u001b[0m",
      "\u001b[0;31mValueError\u001b[0m                                Traceback (most recent call last)",
      "Cell \u001b[0;32mIn[7], line 7\u001b[0m\n\u001b[1;32m      1\u001b[0m ghsmm \u001b[38;5;241m=\u001b[39m GaussianHSMM(n_states\u001b[38;5;241m=\u001b[39m\u001b[38;5;241m5\u001b[39m,\n\u001b[1;32m      2\u001b[0m                      max_duration\u001b[38;5;241m=\u001b[39m\u001b[38;5;241m5\u001b[39m,\n\u001b[1;32m      3\u001b[0m                     n_features\u001b[38;5;241m=\u001b[39m\u001b[38;5;241m3\u001b[39m,\n\u001b[1;32m      4\u001b[0m                     params_init\u001b[38;5;241m=\u001b[39m\u001b[38;5;28;01mTrue\u001b[39;00m,\n\u001b[1;32m      5\u001b[0m                     device\u001b[38;5;241m=\u001b[39mtorch\u001b[38;5;241m.\u001b[39mdevice(\u001b[38;5;124m'\u001b[39m\u001b[38;5;124mcpu\u001b[39m\u001b[38;5;124m'\u001b[39m))\n\u001b[1;32m      6\u001b[0m train_seq \u001b[38;5;241m=\u001b[39m torch\u001b[38;5;241m.\u001b[39mrand(\u001b[38;5;241m100\u001b[39m,\u001b[38;5;241m3\u001b[39m, dtype\u001b[38;5;241m=\u001b[39mtorch\u001b[38;5;241m.\u001b[39mfloat64)\n\u001b[0;32m----> 7\u001b[0m dist_models \u001b[38;5;241m=\u001b[39m \u001b[43mghsmm\u001b[49m\u001b[38;5;241;43m.\u001b[39;49m\u001b[43mfit\u001b[49m\u001b[43m(\u001b[49m\u001b[43mX\u001b[49m\u001b[38;5;241;43m=\u001b[39;49m\u001b[43mtrain_seq\u001b[49m\u001b[43m,\u001b[49m\u001b[43mmax_iter\u001b[49m\u001b[38;5;241;43m=\u001b[39;49m\u001b[38;5;241;43m15\u001b[39;49m\u001b[43m,\u001b[49m\u001b[43m \u001b[49m\u001b[43mn_init\u001b[49m\u001b[38;5;241;43m=\u001b[39;49m\u001b[38;5;241;43m1\u001b[39;49m\u001b[43m)\u001b[49m\n\u001b[1;32m      9\u001b[0m \u001b[38;5;28mprint\u001b[39m(\u001b[38;5;124m'\u001b[39m\u001b[38;5;124mModel AIC: \u001b[39m\u001b[38;5;132;01m{:.2f}\u001b[39;00m\u001b[38;5;124m'\u001b[39m\u001b[38;5;241m.\u001b[39mformat(ghsmm\u001b[38;5;241m.\u001b[39mic(train_seq)))\n",
      "File \u001b[0;32m~/anaconda3/envs/hmm/lib/python3.8/site-packages/chadhmm/hsmm/BaseHSMM.py:391\u001b[0m, in \u001b[0;36mBaseHSMM.fit\u001b[0;34m(self, X, tol, max_iter, n_init, post_conv_iter, ignore_conv, sample_B_from_X, verbose, plot_conv, lengths, theta)\u001b[0m\n\u001b[1;32m    388\u001b[0m \u001b[38;5;28mself\u001b[39m\u001b[38;5;241m.\u001b[39m_update_model(X_valid, valid_theta)\n\u001b[1;32m    390\u001b[0m \u001b[38;5;66;03m# remap emission probabilities after update of B\u001b[39;00m\n\u001b[0;32m--> 391\u001b[0m X_valid\u001b[38;5;241m.\u001b[39mlog_probs \u001b[38;5;241m=\u001b[39m [\u001b[38;5;28mself\u001b[39m\u001b[38;5;241m.\u001b[39mmap_emission(x) \u001b[38;5;28;01mfor\u001b[39;00m x \u001b[38;5;129;01min\u001b[39;00m X_valid\u001b[38;5;241m.\u001b[39mX]\n\u001b[1;32m    393\u001b[0m curr_log_like \u001b[38;5;241m=\u001b[39m \u001b[38;5;28msum\u001b[39m(\u001b[38;5;28mself\u001b[39m\u001b[38;5;241m.\u001b[39m_compute_log_likelihood(X_valid))\n\u001b[1;32m    394\u001b[0m converged \u001b[38;5;241m=\u001b[39m \u001b[38;5;28mself\u001b[39m\u001b[38;5;241m.\u001b[39mconv\u001b[38;5;241m.\u001b[39mpush_pull(curr_log_like,\u001b[38;5;28miter\u001b[39m,rank)\n",
      "File \u001b[0;32m~/anaconda3/envs/hmm/lib/python3.8/site-packages/chadhmm/hsmm/BaseHSMM.py:391\u001b[0m, in \u001b[0;36m<listcomp>\u001b[0;34m(.0)\u001b[0m\n\u001b[1;32m    388\u001b[0m \u001b[38;5;28mself\u001b[39m\u001b[38;5;241m.\u001b[39m_update_model(X_valid, valid_theta)\n\u001b[1;32m    390\u001b[0m \u001b[38;5;66;03m# remap emission probabilities after update of B\u001b[39;00m\n\u001b[0;32m--> 391\u001b[0m X_valid\u001b[38;5;241m.\u001b[39mlog_probs \u001b[38;5;241m=\u001b[39m [\u001b[38;5;28;43mself\u001b[39;49m\u001b[38;5;241;43m.\u001b[39;49m\u001b[43mmap_emission\u001b[49m\u001b[43m(\u001b[49m\u001b[43mx\u001b[49m\u001b[43m)\u001b[49m \u001b[38;5;28;01mfor\u001b[39;00m x \u001b[38;5;129;01min\u001b[39;00m X_valid\u001b[38;5;241m.\u001b[39mX]\n\u001b[1;32m    393\u001b[0m curr_log_like \u001b[38;5;241m=\u001b[39m \u001b[38;5;28msum\u001b[39m(\u001b[38;5;28mself\u001b[39m\u001b[38;5;241m.\u001b[39m_compute_log_likelihood(X_valid))\n\u001b[1;32m    394\u001b[0m converged \u001b[38;5;241m=\u001b[39m \u001b[38;5;28mself\u001b[39m\u001b[38;5;241m.\u001b[39mconv\u001b[38;5;241m.\u001b[39mpush_pull(curr_log_like,\u001b[38;5;28miter\u001b[39m,rank)\n",
      "File \u001b[0;32m~/anaconda3/envs/hmm/lib/python3.8/site-packages/chadhmm/hsmm/GaussianHSMM.py:95\u001b[0m, in \u001b[0;36mGaussianHSMM.map_emission\u001b[0;34m(self, x)\u001b[0m\n\u001b[1;32m     94\u001b[0m \u001b[38;5;28;01mdef\u001b[39;00m \u001b[38;5;21mmap_emission\u001b[39m(\u001b[38;5;28mself\u001b[39m,x):\n\u001b[0;32m---> 95\u001b[0m     \u001b[38;5;28;01mreturn\u001b[39;00m \u001b[43mGaussianEmissions\u001b[49m\u001b[38;5;241;43m.\u001b[39;49m\u001b[43mmap_emission\u001b[49m\u001b[43m(\u001b[49m\u001b[38;5;28;43mself\u001b[39;49m\u001b[43m,\u001b[49m\u001b[43mx\u001b[49m\u001b[43m)\u001b[49m\n",
      "File \u001b[0;32m~/anaconda3/envs/hmm/lib/python3.8/site-packages/chadhmm/emissions/gaussian.py:95\u001b[0m, in \u001b[0;36mGaussianEmissions.map_emission\u001b[0;34m(self, x)\u001b[0m\n\u001b[1;32m     93\u001b[0m \u001b[38;5;28;01mdef\u001b[39;00m \u001b[38;5;21mmap_emission\u001b[39m(\u001b[38;5;28mself\u001b[39m,x):\n\u001b[1;32m     94\u001b[0m     x_batched \u001b[38;5;241m=\u001b[39m x\u001b[38;5;241m.\u001b[39munsqueeze(\u001b[38;5;241m1\u001b[39m)\u001b[38;5;241m.\u001b[39mexpand(\u001b[38;5;241m-\u001b[39m\u001b[38;5;241m1\u001b[39m,\u001b[38;5;28mself\u001b[39m\u001b[38;5;241m.\u001b[39mn_dims,\u001b[38;5;241m-\u001b[39m\u001b[38;5;241m1\u001b[39m)\n\u001b[0;32m---> 95\u001b[0m     \u001b[38;5;28;01mreturn\u001b[39;00m \u001b[38;5;28;43mself\u001b[39;49m\u001b[38;5;241;43m.\u001b[39;49m\u001b[43mpdf\u001b[49m\u001b[38;5;241m.\u001b[39mlog_prob(x_batched)\n",
      "File \u001b[0;32m~/anaconda3/envs/hmm/lib/python3.8/site-packages/chadhmm/emissions/gaussian.py:86\u001b[0m, in \u001b[0;36mGaussianEmissions.pdf\u001b[0;34m(self)\u001b[0m\n\u001b[1;32m     84\u001b[0m \u001b[38;5;129m@property\u001b[39m\n\u001b[1;32m     85\u001b[0m \u001b[38;5;28;01mdef\u001b[39;00m \u001b[38;5;21mpdf\u001b[39m(\u001b[38;5;28mself\u001b[39m) \u001b[38;5;241m-\u001b[39m\u001b[38;5;241m>\u001b[39m MultivariateNormal:\n\u001b[0;32m---> 86\u001b[0m     \u001b[38;5;28;01mreturn\u001b[39;00m \u001b[43mMultivariateNormal\u001b[49m\u001b[43m(\u001b[49m\u001b[38;5;28;43mself\u001b[39;49m\u001b[38;5;241;43m.\u001b[39;49m\u001b[43mmeans\u001b[49m\u001b[43m,\u001b[49m\u001b[38;5;28;43mself\u001b[39;49m\u001b[38;5;241;43m.\u001b[39;49m\u001b[43mcovs\u001b[49m\u001b[43m)\u001b[49m\n",
      "File \u001b[0;32m~/anaconda3/envs/hmm/lib/python3.8/site-packages/torch/distributions/multivariate_normal.py:150\u001b[0m, in \u001b[0;36mMultivariateNormal.__init__\u001b[0;34m(self, loc, covariance_matrix, precision_matrix, scale_tril, validate_args)\u001b[0m\n\u001b[1;32m    147\u001b[0m \u001b[38;5;28mself\u001b[39m\u001b[38;5;241m.\u001b[39mloc \u001b[38;5;241m=\u001b[39m loc\u001b[38;5;241m.\u001b[39mexpand(batch_shape \u001b[38;5;241m+\u001b[39m (\u001b[38;5;241m-\u001b[39m\u001b[38;5;241m1\u001b[39m,))\n\u001b[1;32m    149\u001b[0m event_shape \u001b[38;5;241m=\u001b[39m \u001b[38;5;28mself\u001b[39m\u001b[38;5;241m.\u001b[39mloc\u001b[38;5;241m.\u001b[39mshape[\u001b[38;5;241m-\u001b[39m\u001b[38;5;241m1\u001b[39m:]\n\u001b[0;32m--> 150\u001b[0m \u001b[38;5;28;43msuper\u001b[39;49m\u001b[43m(\u001b[49m\u001b[43m)\u001b[49m\u001b[38;5;241;43m.\u001b[39;49m\u001b[38;5;21;43m__init__\u001b[39;49m\u001b[43m(\u001b[49m\u001b[43mbatch_shape\u001b[49m\u001b[43m,\u001b[49m\u001b[43m \u001b[49m\u001b[43mevent_shape\u001b[49m\u001b[43m,\u001b[49m\u001b[43m \u001b[49m\u001b[43mvalidate_args\u001b[49m\u001b[38;5;241;43m=\u001b[39;49m\u001b[43mvalidate_args\u001b[49m\u001b[43m)\u001b[49m\n\u001b[1;32m    152\u001b[0m \u001b[38;5;28;01mif\u001b[39;00m scale_tril \u001b[38;5;129;01mis\u001b[39;00m \u001b[38;5;129;01mnot\u001b[39;00m \u001b[38;5;28;01mNone\u001b[39;00m:\n\u001b[1;32m    153\u001b[0m     \u001b[38;5;28mself\u001b[39m\u001b[38;5;241m.\u001b[39m_unbroadcasted_scale_tril \u001b[38;5;241m=\u001b[39m scale_tril\n",
      "File \u001b[0;32m~/anaconda3/envs/hmm/lib/python3.8/site-packages/torch/distributions/distribution.py:62\u001b[0m, in \u001b[0;36mDistribution.__init__\u001b[0;34m(self, batch_shape, event_shape, validate_args)\u001b[0m\n\u001b[1;32m     60\u001b[0m         valid \u001b[38;5;241m=\u001b[39m constraint\u001b[38;5;241m.\u001b[39mcheck(value)\n\u001b[1;32m     61\u001b[0m         \u001b[38;5;28;01mif\u001b[39;00m \u001b[38;5;129;01mnot\u001b[39;00m valid\u001b[38;5;241m.\u001b[39mall():\n\u001b[0;32m---> 62\u001b[0m             \u001b[38;5;28;01mraise\u001b[39;00m \u001b[38;5;167;01mValueError\u001b[39;00m(\n\u001b[1;32m     63\u001b[0m                 \u001b[38;5;124mf\u001b[39m\u001b[38;5;124m\"\u001b[39m\u001b[38;5;124mExpected parameter \u001b[39m\u001b[38;5;132;01m{\u001b[39;00mparam\u001b[38;5;132;01m}\u001b[39;00m\u001b[38;5;124m \u001b[39m\u001b[38;5;124m\"\u001b[39m\n\u001b[1;32m     64\u001b[0m                 \u001b[38;5;124mf\u001b[39m\u001b[38;5;124m\"\u001b[39m\u001b[38;5;124m(\u001b[39m\u001b[38;5;132;01m{\u001b[39;00m\u001b[38;5;28mtype\u001b[39m(value)\u001b[38;5;241m.\u001b[39m\u001b[38;5;18m__name__\u001b[39m\u001b[38;5;132;01m}\u001b[39;00m\u001b[38;5;124m of shape \u001b[39m\u001b[38;5;132;01m{\u001b[39;00m\u001b[38;5;28mtuple\u001b[39m(value\u001b[38;5;241m.\u001b[39mshape)\u001b[38;5;132;01m}\u001b[39;00m\u001b[38;5;124m) \u001b[39m\u001b[38;5;124m\"\u001b[39m\n\u001b[1;32m     65\u001b[0m                 \u001b[38;5;124mf\u001b[39m\u001b[38;5;124m\"\u001b[39m\u001b[38;5;124mof distribution \u001b[39m\u001b[38;5;132;01m{\u001b[39;00m\u001b[38;5;28mrepr\u001b[39m(\u001b[38;5;28mself\u001b[39m)\u001b[38;5;132;01m}\u001b[39;00m\u001b[38;5;124m \u001b[39m\u001b[38;5;124m\"\u001b[39m\n\u001b[1;32m     66\u001b[0m                 \u001b[38;5;124mf\u001b[39m\u001b[38;5;124m\"\u001b[39m\u001b[38;5;124mto satisfy the constraint \u001b[39m\u001b[38;5;132;01m{\u001b[39;00m\u001b[38;5;28mrepr\u001b[39m(constraint)\u001b[38;5;132;01m}\u001b[39;00m\u001b[38;5;124m, \u001b[39m\u001b[38;5;124m\"\u001b[39m\n\u001b[1;32m     67\u001b[0m                 \u001b[38;5;124mf\u001b[39m\u001b[38;5;124m\"\u001b[39m\u001b[38;5;124mbut found invalid values:\u001b[39m\u001b[38;5;130;01m\\n\u001b[39;00m\u001b[38;5;132;01m{\u001b[39;00mvalue\u001b[38;5;132;01m}\u001b[39;00m\u001b[38;5;124m\"\u001b[39m\n\u001b[1;32m     68\u001b[0m             )\n\u001b[1;32m     69\u001b[0m \u001b[38;5;28msuper\u001b[39m()\u001b[38;5;241m.\u001b[39m\u001b[38;5;21m__init__\u001b[39m()\n",
      "\u001b[0;31mValueError\u001b[0m: Expected parameter loc (Tensor of shape (5, 3)) of distribution MultivariateNormal(loc: torch.Size([5, 3]), covariance_matrix: torch.Size([5, 3, 3])) to satisfy the constraint IndependentConstraint(Real(), 1), but found invalid values:\ntensor([[   nan,    nan,    nan],\n        [   nan,    nan,    nan],\n        [0.4868, 0.5639, 0.5312],\n        [   nan,    nan,    nan],\n        [   nan,    nan,    nan]], dtype=torch.float64)"
     ]
    }
   ],
   "source": [
    "ghsmm = GaussianHSMM(n_states=5,\n",
    "                     max_duration=5,\n",
    "                    n_features=3,\n",
    "                    params_init=True,\n",
    "                    device=torch.device('cpu'))\n",
    "train_seq = torch.rand(100,3, dtype=torch.float64)\n",
    "dist_models = ghsmm.fit(X=train_seq,max_iter=15, n_init=1)\n",
    "\n",
    "print('Model AIC: {:.2f}'.format(ghsmm.ic(train_seq)))"
   ]
  },
  {
   "cell_type": "code",
   "execution_count": 8,
   "metadata": {},
   "outputs": [
    {
     "name": "stdout",
     "output_type": "stream",
     "text": [
      "Run 1 | Initialization | Score: -433.05\n",
      "Run 1 | Iteration: 1 | Score: -72.90 | Delta: 360.15 | Converged = False\n",
      "Run 1 | Iteration: 2 | Score: -72.78 | Delta: 0.12 | Converged = False\n",
      "Run 1 | Iteration: 3 | Score: -72.46 | Delta: 0.32 | Converged = False\n",
      "Run 1 | Iteration: 4 | Score: -71.53 | Delta: 0.93 | Converged = False\n",
      "Run 1 | Iteration: 5 | Score: -69.11 | Delta: 2.42 | Converged = False\n",
      "Run 1 | Iteration: 6 | Score: -64.74 | Delta: 4.36 | Converged = False\n",
      "Run 1 | Iteration: 7 | Score: -59.67 | Delta: 5.07 | Converged = False\n",
      "Run 1 | Iteration: 8 | Score: -55.16 | Delta: 4.51 | Converged = False\n",
      "Run 1 | Iteration: 9 | Score: -50.96 | Delta: 4.20 | Converged = False\n",
      "Run 1 | Iteration: 10 | Score: -46.35 | Delta: 4.61 | Converged = False\n"
     ]
    },
    {
     "ename": "ValueError",
     "evalue": "Expected parameter loc (Tensor of shape (5, 3, 4)) of distribution MultivariateNormal(loc: torch.Size([5, 3, 4]), covariance_matrix: torch.Size([5, 3, 4, 4])) to satisfy the constraint IndependentConstraint(Real(), 1), but found invalid values:\ntensor([[[0.3153, 0.3806, 0.4296, 0.5367],\n         [0.3153, 0.3806, 0.4296, 0.5367],\n         [0.3153, 0.3806, 0.4296, 0.5367]],\n\n        [[0.5573, 0.6500, 0.6867, 0.3862],\n         [0.5573, 0.6500, 0.6867, 0.3862],\n         [0.5573, 0.6500, 0.6867, 0.3862]],\n\n        [[0.5308, 0.4345, 0.4850, 0.4189],\n         [0.5308, 0.4345, 0.4850, 0.4189],\n         [0.5308, 0.4345, 0.4850, 0.4189]],\n\n        [[0.3549, 0.5264, 0.6050, 0.5241],\n         [0.3549, 0.5264, 0.6050, 0.5241],\n         [0.3549, 0.5264, 0.6050, 0.5241]],\n\n        [[   nan,    nan,    nan,    nan],\n         [   nan,    nan,    nan,    nan],\n         [   nan,    nan,    nan,    nan]]], dtype=torch.float64)",
     "output_type": "error",
     "traceback": [
      "\u001b[0;31m---------------------------------------------------------------------------\u001b[0m",
      "\u001b[0;31mValueError\u001b[0m                                Traceback (most recent call last)",
      "Cell \u001b[0;32mIn[8], line 8\u001b[0m\n\u001b[1;32m      1\u001b[0m gmhsmm \u001b[38;5;241m=\u001b[39m GaussianMixtureHSMM(n_states\u001b[38;5;241m=\u001b[39m\u001b[38;5;241m5\u001b[39m, \n\u001b[1;32m      2\u001b[0m                            max_duration\u001b[38;5;241m=\u001b[39m\u001b[38;5;241m5\u001b[39m,\n\u001b[1;32m      3\u001b[0m                            n_components\u001b[38;5;241m=\u001b[39m\u001b[38;5;241m3\u001b[39m,\n\u001b[1;32m      4\u001b[0m                            n_features\u001b[38;5;241m=\u001b[39m\u001b[38;5;241m4\u001b[39m,\n\u001b[1;32m      5\u001b[0m                            params_init\u001b[38;5;241m=\u001b[39m\u001b[38;5;28;01mTrue\u001b[39;00m,\n\u001b[1;32m      6\u001b[0m                            device\u001b[38;5;241m=\u001b[39mtorch\u001b[38;5;241m.\u001b[39mdevice(\u001b[38;5;124m'\u001b[39m\u001b[38;5;124mcpu\u001b[39m\u001b[38;5;124m'\u001b[39m))\n\u001b[1;32m      7\u001b[0m train_seq \u001b[38;5;241m=\u001b[39m torch\u001b[38;5;241m.\u001b[39mrand(\u001b[38;5;241m100\u001b[39m,\u001b[38;5;241m4\u001b[39m, dtype\u001b[38;5;241m=\u001b[39mtorch\u001b[38;5;241m.\u001b[39mfloat64)\n\u001b[0;32m----> 8\u001b[0m dist_model \u001b[38;5;241m=\u001b[39m \u001b[43mgmhsmm\u001b[49m\u001b[38;5;241;43m.\u001b[39;49m\u001b[43mfit\u001b[49m\u001b[43m(\u001b[49m\u001b[43mX\u001b[49m\u001b[38;5;241;43m=\u001b[39;49m\u001b[43mtrain_seq\u001b[49m\u001b[43m,\u001b[49m\u001b[43mmax_iter\u001b[49m\u001b[38;5;241;43m=\u001b[39;49m\u001b[38;5;241;43m15\u001b[39;49m\u001b[43m,\u001b[49m\u001b[43m \u001b[49m\u001b[43mn_init\u001b[49m\u001b[38;5;241;43m=\u001b[39;49m\u001b[38;5;241;43m1\u001b[39;49m\u001b[43m)\u001b[49m\n\u001b[1;32m     10\u001b[0m \u001b[38;5;28mprint\u001b[39m(\u001b[38;5;124m'\u001b[39m\u001b[38;5;124mModel AIC: \u001b[39m\u001b[38;5;132;01m{:.2f}\u001b[39;00m\u001b[38;5;124m'\u001b[39m\u001b[38;5;241m.\u001b[39mformat(gmhsmm\u001b[38;5;241m.\u001b[39mic(train_seq)))\n",
      "File \u001b[0;32m~/anaconda3/envs/hmm/lib/python3.8/site-packages/chadhmm/hsmm/BaseHSMM.py:391\u001b[0m, in \u001b[0;36mBaseHSMM.fit\u001b[0;34m(self, X, tol, max_iter, n_init, post_conv_iter, ignore_conv, sample_B_from_X, verbose, plot_conv, lengths, theta)\u001b[0m\n\u001b[1;32m    388\u001b[0m \u001b[38;5;28mself\u001b[39m\u001b[38;5;241m.\u001b[39m_update_model(X_valid, valid_theta)\n\u001b[1;32m    390\u001b[0m \u001b[38;5;66;03m# remap emission probabilities after update of B\u001b[39;00m\n\u001b[0;32m--> 391\u001b[0m X_valid\u001b[38;5;241m.\u001b[39mlog_probs \u001b[38;5;241m=\u001b[39m [\u001b[38;5;28mself\u001b[39m\u001b[38;5;241m.\u001b[39mmap_emission(x) \u001b[38;5;28;01mfor\u001b[39;00m x \u001b[38;5;129;01min\u001b[39;00m X_valid\u001b[38;5;241m.\u001b[39mX]\n\u001b[1;32m    393\u001b[0m curr_log_like \u001b[38;5;241m=\u001b[39m \u001b[38;5;28msum\u001b[39m(\u001b[38;5;28mself\u001b[39m\u001b[38;5;241m.\u001b[39m_compute_log_likelihood(X_valid))\n\u001b[1;32m    394\u001b[0m converged \u001b[38;5;241m=\u001b[39m \u001b[38;5;28mself\u001b[39m\u001b[38;5;241m.\u001b[39mconv\u001b[38;5;241m.\u001b[39mpush_pull(curr_log_like,\u001b[38;5;28miter\u001b[39m,rank)\n",
      "File \u001b[0;32m~/anaconda3/envs/hmm/lib/python3.8/site-packages/chadhmm/hsmm/BaseHSMM.py:391\u001b[0m, in \u001b[0;36m<listcomp>\u001b[0;34m(.0)\u001b[0m\n\u001b[1;32m    388\u001b[0m \u001b[38;5;28mself\u001b[39m\u001b[38;5;241m.\u001b[39m_update_model(X_valid, valid_theta)\n\u001b[1;32m    390\u001b[0m \u001b[38;5;66;03m# remap emission probabilities after update of B\u001b[39;00m\n\u001b[0;32m--> 391\u001b[0m X_valid\u001b[38;5;241m.\u001b[39mlog_probs \u001b[38;5;241m=\u001b[39m [\u001b[38;5;28;43mself\u001b[39;49m\u001b[38;5;241;43m.\u001b[39;49m\u001b[43mmap_emission\u001b[49m\u001b[43m(\u001b[49m\u001b[43mx\u001b[49m\u001b[43m)\u001b[49m \u001b[38;5;28;01mfor\u001b[39;00m x \u001b[38;5;129;01min\u001b[39;00m X_valid\u001b[38;5;241m.\u001b[39mX]\n\u001b[1;32m    393\u001b[0m curr_log_like \u001b[38;5;241m=\u001b[39m \u001b[38;5;28msum\u001b[39m(\u001b[38;5;28mself\u001b[39m\u001b[38;5;241m.\u001b[39m_compute_log_likelihood(X_valid))\n\u001b[1;32m    394\u001b[0m converged \u001b[38;5;241m=\u001b[39m \u001b[38;5;28mself\u001b[39m\u001b[38;5;241m.\u001b[39mconv\u001b[38;5;241m.\u001b[39mpush_pull(curr_log_like,\u001b[38;5;28miter\u001b[39m,rank)\n",
      "File \u001b[0;32m~/anaconda3/envs/hmm/lib/python3.8/site-packages/chadhmm/hsmm/GaussianHSMM.py:195\u001b[0m, in \u001b[0;36mGaussianMixtureHSMM.map_emission\u001b[0;34m(self, x)\u001b[0m\n\u001b[1;32m    194\u001b[0m \u001b[38;5;28;01mdef\u001b[39;00m \u001b[38;5;21mmap_emission\u001b[39m(\u001b[38;5;28mself\u001b[39m,x):\n\u001b[0;32m--> 195\u001b[0m     \u001b[38;5;28;01mreturn\u001b[39;00m \u001b[43mGaussianMixtureEmissions\u001b[49m\u001b[38;5;241;43m.\u001b[39;49m\u001b[43mmap_emission\u001b[49m\u001b[43m(\u001b[49m\u001b[38;5;28;43mself\u001b[39;49m\u001b[43m,\u001b[49m\u001b[43mx\u001b[49m\u001b[43m)\u001b[49m\n",
      "File \u001b[0;32m~/anaconda3/envs/hmm/lib/python3.8/site-packages/chadhmm/emissions/base_mixture.py:91\u001b[0m, in \u001b[0;36mMixtureEmissions.map_emission\u001b[0;34m(self, x)\u001b[0m\n\u001b[1;32m     89\u001b[0m \u001b[38;5;28;01mdef\u001b[39;00m \u001b[38;5;21mmap_emission\u001b[39m(\u001b[38;5;28mself\u001b[39m, x:torch\u001b[38;5;241m.\u001b[39mTensor) \u001b[38;5;241m-\u001b[39m\u001b[38;5;241m>\u001b[39m torch\u001b[38;5;241m.\u001b[39mTensor:\n\u001b[1;32m     90\u001b[0m     x_batched \u001b[38;5;241m=\u001b[39m x\u001b[38;5;241m.\u001b[39munsqueeze(\u001b[38;5;241m1\u001b[39m)\u001b[38;5;241m.\u001b[39mexpand(\u001b[38;5;241m-\u001b[39m\u001b[38;5;241m1\u001b[39m,\u001b[38;5;28mself\u001b[39m\u001b[38;5;241m.\u001b[39mn_dims,\u001b[38;5;241m-\u001b[39m\u001b[38;5;241m1\u001b[39m)\n\u001b[0;32m---> 91\u001b[0m     \u001b[38;5;28;01mreturn\u001b[39;00m \u001b[38;5;28;43mself\u001b[39;49m\u001b[38;5;241;43m.\u001b[39;49m\u001b[43mmixture_pdf\u001b[49m\u001b[38;5;241m.\u001b[39mlog_prob(x_batched)\n",
      "File \u001b[0;32m~/anaconda3/envs/hmm/lib/python3.8/site-packages/chadhmm/emissions/base_mixture.py:56\u001b[0m, in \u001b[0;36mMixtureEmissions.mixture_pdf\u001b[0;34m(self)\u001b[0m\n\u001b[1;32m     52\u001b[0m \u001b[38;5;129m@property\u001b[39m\n\u001b[1;32m     53\u001b[0m \u001b[38;5;28;01mdef\u001b[39;00m \u001b[38;5;21mmixture_pdf\u001b[39m(\u001b[38;5;28mself\u001b[39m) \u001b[38;5;241m-\u001b[39m\u001b[38;5;241m>\u001b[39m MixtureSameFamily:\n\u001b[1;32m     54\u001b[0m \u001b[38;5;250m    \u001b[39m\u001b[38;5;124;03m\"\"\"Return the emission distribution for Gaussian Mixture Distribution.\"\"\"\u001b[39;00m\n\u001b[1;32m     55\u001b[0m     \u001b[38;5;28;01mreturn\u001b[39;00m MixtureSameFamily(mixture_distribution \u001b[38;5;241m=\u001b[39m \u001b[38;5;28mself\u001b[39m\u001b[38;5;241m.\u001b[39mweights\u001b[38;5;241m.\u001b[39m_dist,\n\u001b[0;32m---> 56\u001b[0m                              component_distribution \u001b[38;5;241m=\u001b[39m \u001b[38;5;28;43mself\u001b[39;49m\u001b[38;5;241;43m.\u001b[39;49m\u001b[43mpdf\u001b[49m)\n",
      "File \u001b[0;32m~/anaconda3/envs/hmm/lib/python3.8/site-packages/chadhmm/emissions/gaussian_mix.py:86\u001b[0m, in \u001b[0;36mGaussianMixtureEmissions.pdf\u001b[0;34m(self)\u001b[0m\n\u001b[1;32m     84\u001b[0m \u001b[38;5;129m@property\u001b[39m\n\u001b[1;32m     85\u001b[0m \u001b[38;5;28;01mdef\u001b[39;00m \u001b[38;5;21mpdf\u001b[39m(\u001b[38;5;28mself\u001b[39m) \u001b[38;5;241m-\u001b[39m\u001b[38;5;241m>\u001b[39m MultivariateNormal:\n\u001b[0;32m---> 86\u001b[0m     \u001b[38;5;28;01mreturn\u001b[39;00m \u001b[43mMultivariateNormal\u001b[49m\u001b[43m(\u001b[49m\u001b[38;5;28;43mself\u001b[39;49m\u001b[38;5;241;43m.\u001b[39;49m\u001b[43mmeans\u001b[49m\u001b[43m,\u001b[49m\u001b[38;5;28;43mself\u001b[39;49m\u001b[38;5;241;43m.\u001b[39;49m\u001b[43mcovs\u001b[49m\u001b[43m)\u001b[49m\n",
      "File \u001b[0;32m~/anaconda3/envs/hmm/lib/python3.8/site-packages/torch/distributions/multivariate_normal.py:150\u001b[0m, in \u001b[0;36mMultivariateNormal.__init__\u001b[0;34m(self, loc, covariance_matrix, precision_matrix, scale_tril, validate_args)\u001b[0m\n\u001b[1;32m    147\u001b[0m \u001b[38;5;28mself\u001b[39m\u001b[38;5;241m.\u001b[39mloc \u001b[38;5;241m=\u001b[39m loc\u001b[38;5;241m.\u001b[39mexpand(batch_shape \u001b[38;5;241m+\u001b[39m (\u001b[38;5;241m-\u001b[39m\u001b[38;5;241m1\u001b[39m,))\n\u001b[1;32m    149\u001b[0m event_shape \u001b[38;5;241m=\u001b[39m \u001b[38;5;28mself\u001b[39m\u001b[38;5;241m.\u001b[39mloc\u001b[38;5;241m.\u001b[39mshape[\u001b[38;5;241m-\u001b[39m\u001b[38;5;241m1\u001b[39m:]\n\u001b[0;32m--> 150\u001b[0m \u001b[38;5;28;43msuper\u001b[39;49m\u001b[43m(\u001b[49m\u001b[43m)\u001b[49m\u001b[38;5;241;43m.\u001b[39;49m\u001b[38;5;21;43m__init__\u001b[39;49m\u001b[43m(\u001b[49m\u001b[43mbatch_shape\u001b[49m\u001b[43m,\u001b[49m\u001b[43m \u001b[49m\u001b[43mevent_shape\u001b[49m\u001b[43m,\u001b[49m\u001b[43m \u001b[49m\u001b[43mvalidate_args\u001b[49m\u001b[38;5;241;43m=\u001b[39;49m\u001b[43mvalidate_args\u001b[49m\u001b[43m)\u001b[49m\n\u001b[1;32m    152\u001b[0m \u001b[38;5;28;01mif\u001b[39;00m scale_tril \u001b[38;5;129;01mis\u001b[39;00m \u001b[38;5;129;01mnot\u001b[39;00m \u001b[38;5;28;01mNone\u001b[39;00m:\n\u001b[1;32m    153\u001b[0m     \u001b[38;5;28mself\u001b[39m\u001b[38;5;241m.\u001b[39m_unbroadcasted_scale_tril \u001b[38;5;241m=\u001b[39m scale_tril\n",
      "File \u001b[0;32m~/anaconda3/envs/hmm/lib/python3.8/site-packages/torch/distributions/distribution.py:62\u001b[0m, in \u001b[0;36mDistribution.__init__\u001b[0;34m(self, batch_shape, event_shape, validate_args)\u001b[0m\n\u001b[1;32m     60\u001b[0m         valid \u001b[38;5;241m=\u001b[39m constraint\u001b[38;5;241m.\u001b[39mcheck(value)\n\u001b[1;32m     61\u001b[0m         \u001b[38;5;28;01mif\u001b[39;00m \u001b[38;5;129;01mnot\u001b[39;00m valid\u001b[38;5;241m.\u001b[39mall():\n\u001b[0;32m---> 62\u001b[0m             \u001b[38;5;28;01mraise\u001b[39;00m \u001b[38;5;167;01mValueError\u001b[39;00m(\n\u001b[1;32m     63\u001b[0m                 \u001b[38;5;124mf\u001b[39m\u001b[38;5;124m\"\u001b[39m\u001b[38;5;124mExpected parameter \u001b[39m\u001b[38;5;132;01m{\u001b[39;00mparam\u001b[38;5;132;01m}\u001b[39;00m\u001b[38;5;124m \u001b[39m\u001b[38;5;124m\"\u001b[39m\n\u001b[1;32m     64\u001b[0m                 \u001b[38;5;124mf\u001b[39m\u001b[38;5;124m\"\u001b[39m\u001b[38;5;124m(\u001b[39m\u001b[38;5;132;01m{\u001b[39;00m\u001b[38;5;28mtype\u001b[39m(value)\u001b[38;5;241m.\u001b[39m\u001b[38;5;18m__name__\u001b[39m\u001b[38;5;132;01m}\u001b[39;00m\u001b[38;5;124m of shape \u001b[39m\u001b[38;5;132;01m{\u001b[39;00m\u001b[38;5;28mtuple\u001b[39m(value\u001b[38;5;241m.\u001b[39mshape)\u001b[38;5;132;01m}\u001b[39;00m\u001b[38;5;124m) \u001b[39m\u001b[38;5;124m\"\u001b[39m\n\u001b[1;32m     65\u001b[0m                 \u001b[38;5;124mf\u001b[39m\u001b[38;5;124m\"\u001b[39m\u001b[38;5;124mof distribution \u001b[39m\u001b[38;5;132;01m{\u001b[39;00m\u001b[38;5;28mrepr\u001b[39m(\u001b[38;5;28mself\u001b[39m)\u001b[38;5;132;01m}\u001b[39;00m\u001b[38;5;124m \u001b[39m\u001b[38;5;124m\"\u001b[39m\n\u001b[1;32m     66\u001b[0m                 \u001b[38;5;124mf\u001b[39m\u001b[38;5;124m\"\u001b[39m\u001b[38;5;124mto satisfy the constraint \u001b[39m\u001b[38;5;132;01m{\u001b[39;00m\u001b[38;5;28mrepr\u001b[39m(constraint)\u001b[38;5;132;01m}\u001b[39;00m\u001b[38;5;124m, \u001b[39m\u001b[38;5;124m\"\u001b[39m\n\u001b[1;32m     67\u001b[0m                 \u001b[38;5;124mf\u001b[39m\u001b[38;5;124m\"\u001b[39m\u001b[38;5;124mbut found invalid values:\u001b[39m\u001b[38;5;130;01m\\n\u001b[39;00m\u001b[38;5;132;01m{\u001b[39;00mvalue\u001b[38;5;132;01m}\u001b[39;00m\u001b[38;5;124m\"\u001b[39m\n\u001b[1;32m     68\u001b[0m             )\n\u001b[1;32m     69\u001b[0m \u001b[38;5;28msuper\u001b[39m()\u001b[38;5;241m.\u001b[39m\u001b[38;5;21m__init__\u001b[39m()\n",
      "\u001b[0;31mValueError\u001b[0m: Expected parameter loc (Tensor of shape (5, 3, 4)) of distribution MultivariateNormal(loc: torch.Size([5, 3, 4]), covariance_matrix: torch.Size([5, 3, 4, 4])) to satisfy the constraint IndependentConstraint(Real(), 1), but found invalid values:\ntensor([[[0.3153, 0.3806, 0.4296, 0.5367],\n         [0.3153, 0.3806, 0.4296, 0.5367],\n         [0.3153, 0.3806, 0.4296, 0.5367]],\n\n        [[0.5573, 0.6500, 0.6867, 0.3862],\n         [0.5573, 0.6500, 0.6867, 0.3862],\n         [0.5573, 0.6500, 0.6867, 0.3862]],\n\n        [[0.5308, 0.4345, 0.4850, 0.4189],\n         [0.5308, 0.4345, 0.4850, 0.4189],\n         [0.5308, 0.4345, 0.4850, 0.4189]],\n\n        [[0.3549, 0.5264, 0.6050, 0.5241],\n         [0.3549, 0.5264, 0.6050, 0.5241],\n         [0.3549, 0.5264, 0.6050, 0.5241]],\n\n        [[   nan,    nan,    nan,    nan],\n         [   nan,    nan,    nan,    nan],\n         [   nan,    nan,    nan,    nan]]], dtype=torch.float64)"
     ]
    }
   ],
   "source": [
    "gmhsmm = GaussianMixtureHSMM(n_states=5, \n",
    "                           max_duration=5,\n",
    "                           n_components=3,\n",
    "                           n_features=4,\n",
    "                           params_init=True,\n",
    "                           device=torch.device('cpu'))\n",
    "train_seq = torch.rand(100,4, dtype=torch.float64)\n",
    "dist_model = gmhsmm.fit(X=train_seq,max_iter=15, n_init=1)\n",
    "\n",
    "print('Model AIC: {:.2f}'.format(gmhsmm.ic(train_seq)))"
   ]
  },
  {
   "cell_type": "markdown",
   "metadata": {},
   "source": [
    "Guassian Mixtures"
   ]
  },
  {
   "cell_type": "code",
   "execution_count": 1,
   "metadata": {},
   "outputs": [],
   "source": [
    "import torch\n",
    "from chadhmm import GaussianMixtureModel"
   ]
  },
  {
   "cell_type": "code",
   "execution_count": 2,
   "metadata": {},
   "outputs": [
    {
     "ename": "ValueError",
     "evalue": "Sequence must have shape (T,3). Got torch.Size([1000, 2]).",
     "output_type": "error",
     "traceback": [
      "\u001b[0;31m---------------------------------------------------------------------------\u001b[0m",
      "\u001b[0;31mValueError\u001b[0m                                Traceback (most recent call last)",
      "Cell \u001b[0;32mIn[2], line 9\u001b[0m\n\u001b[1;32m      1\u001b[0m gmm \u001b[38;5;241m=\u001b[39m GaussianMixtureModel(n_dims\u001b[38;5;241m=\u001b[39m\u001b[38;5;241m1\u001b[39m,\n\u001b[1;32m      2\u001b[0m                            n_components\u001b[38;5;241m=\u001b[39m\u001b[38;5;241m3\u001b[39m,\n\u001b[1;32m      3\u001b[0m                            n_features\u001b[38;5;241m=\u001b[39m\u001b[38;5;241m2\u001b[39m,\n\u001b[1;32m      4\u001b[0m                            seed\u001b[38;5;241m=\u001b[39m\u001b[38;5;241m15\u001b[39m,\n\u001b[1;32m      5\u001b[0m                            min_covar\u001b[38;5;241m=\u001b[39m\u001b[38;5;241m1e-3\u001b[39m,\n\u001b[1;32m      6\u001b[0m                            device\u001b[38;5;241m=\u001b[39mtorch\u001b[38;5;241m.\u001b[39mdevice(\u001b[38;5;124m'\u001b[39m\u001b[38;5;124mcpu\u001b[39m\u001b[38;5;124m'\u001b[39m))\n\u001b[1;32m      8\u001b[0m X \u001b[38;5;241m=\u001b[39m torch\u001b[38;5;241m.\u001b[39mrand(\u001b[38;5;241m1000\u001b[39m,\u001b[38;5;241m2\u001b[39m, dtype\u001b[38;5;241m=\u001b[39mtorch\u001b[38;5;241m.\u001b[39mfloat64)\n\u001b[0;32m----> 9\u001b[0m mod \u001b[38;5;241m=\u001b[39m \u001b[43mgmm\u001b[49m\u001b[38;5;241;43m.\u001b[39;49m\u001b[43mfit\u001b[49m\u001b[43m(\u001b[49m\u001b[43mX\u001b[49m\u001b[43m,\u001b[49m\u001b[43mmax_iter\u001b[49m\u001b[38;5;241;43m=\u001b[39;49m\u001b[38;5;241;43m4\u001b[39;49m\u001b[43m,\u001b[49m\u001b[43mverbose\u001b[49m\u001b[38;5;241;43m=\u001b[39;49m\u001b[38;5;28;43;01mTrue\u001b[39;49;00m\u001b[43m)\u001b[49m\n",
      "File \u001b[0;32m~/anaconda3/envs/hmm/lib/python3.8/site-packages/chadhmm/MixtureModels.py:71\u001b[0m, in \u001b[0;36mGaussianMixtureModel.fit\u001b[0;34m(self, X, tol, max_iter, n_init, post_conv_iter, ignore_conv, plot_conv, verbose, lengths, theta)\u001b[0m\n\u001b[1;32m     59\u001b[0m \u001b[38;5;28;01mdef\u001b[39;00m \u001b[38;5;21mfit\u001b[39m(\u001b[38;5;28mself\u001b[39m,\n\u001b[1;32m     60\u001b[0m         X:torch\u001b[38;5;241m.\u001b[39mTensor,\n\u001b[1;32m     61\u001b[0m         tol:\u001b[38;5;28mfloat\u001b[39m\u001b[38;5;241m=\u001b[39m\u001b[38;5;241m1e-2\u001b[39m,\n\u001b[0;32m   (...)\u001b[0m\n\u001b[1;32m     68\u001b[0m         lengths:Optional[List[\u001b[38;5;28mint\u001b[39m]] \u001b[38;5;241m=\u001b[39m \u001b[38;5;28;01mNone\u001b[39;00m,\n\u001b[1;32m     69\u001b[0m         theta:Optional[torch\u001b[38;5;241m.\u001b[39mTensor] \u001b[38;5;241m=\u001b[39m \u001b[38;5;28;01mNone\u001b[39;00m) \u001b[38;5;241m-\u001b[39m\u001b[38;5;241m>\u001b[39m Dict[\u001b[38;5;28mint\u001b[39m,FittedModel]:\n\u001b[1;32m     70\u001b[0m \u001b[38;5;250m    \u001b[39m\u001b[38;5;124;03m\"\"\"Fit the model to the data.\"\"\"\u001b[39;00m\n\u001b[0;32m---> 71\u001b[0m     X_valid \u001b[38;5;241m=\u001b[39m \u001b[43mvalidate_sequence\u001b[49m\u001b[43m(\u001b[49m\u001b[43mX\u001b[49m\u001b[43m,\u001b[49m\u001b[38;5;28;43;01mFalse\u001b[39;49;00m\u001b[43m,\u001b[49m\u001b[38;5;28;43mself\u001b[39;49m\u001b[38;5;241;43m.\u001b[39;49m\u001b[43mn_features\u001b[49m\u001b[43m)\u001b[49m\n\u001b[1;32m     72\u001b[0m     X_vec \u001b[38;5;241m=\u001b[39m \u001b[38;5;28mlist\u001b[39m(torch\u001b[38;5;241m.\u001b[39msplit(X_valid, lengths)) \u001b[38;5;28;01mif\u001b[39;00m lengths \u001b[38;5;129;01mis\u001b[39;00m \u001b[38;5;129;01mnot\u001b[39;00m \u001b[38;5;28;01mNone\u001b[39;00m \u001b[38;5;28;01melse\u001b[39;00m [X_valid]\n\u001b[1;32m     74\u001b[0m     \u001b[38;5;28mself\u001b[39m\u001b[38;5;241m.\u001b[39mconv \u001b[38;5;241m=\u001b[39m ConvergenceHandler(tol\u001b[38;5;241m=\u001b[39mtol,\n\u001b[1;32m     75\u001b[0m                                    max_iter\u001b[38;5;241m=\u001b[39mmax_iter,\n\u001b[1;32m     76\u001b[0m                                    n_init\u001b[38;5;241m=\u001b[39mn_init,\n\u001b[1;32m     77\u001b[0m                                    post_conv_iter\u001b[38;5;241m=\u001b[39mpost_conv_iter,\n\u001b[1;32m     78\u001b[0m                                    device\u001b[38;5;241m=\u001b[39m\u001b[38;5;28mself\u001b[39m\u001b[38;5;241m.\u001b[39mdevice,\n\u001b[1;32m     79\u001b[0m                                    verbose\u001b[38;5;241m=\u001b[39mverbose)\n",
      "File \u001b[0;32m~/anaconda3/envs/hmm/lib/python3.8/site-packages/chadhmm/utils.py:236\u001b[0m, in \u001b[0;36mvalidate_sequence\u001b[0;34m(sequence, discrete, n_features)\u001b[0m\n\u001b[1;32m    234\u001b[0m     \u001b[38;5;28;01mraise\u001b[39;00m \u001b[38;5;167;01mValueError\u001b[39;00m(\u001b[38;5;124mf\u001b[39m\u001b[38;5;124m'\u001b[39m\u001b[38;5;124mSequence must be of type torch.float, got \u001b[39m\u001b[38;5;132;01m{\u001b[39;00msequence\u001b[38;5;241m.\u001b[39mdtype\u001b[38;5;132;01m}\u001b[39;00m\u001b[38;5;124m'\u001b[39m)\n\u001b[1;32m    235\u001b[0m \u001b[38;5;28;01melif\u001b[39;00m sequence\u001b[38;5;241m.\u001b[39mshape[\u001b[38;5;241m1\u001b[39m] \u001b[38;5;241m!=\u001b[39m n_features:\n\u001b[0;32m--> 236\u001b[0m     \u001b[38;5;28;01mraise\u001b[39;00m \u001b[38;5;167;01mValueError\u001b[39;00m(\u001b[38;5;124mf\u001b[39m\u001b[38;5;124m'\u001b[39m\u001b[38;5;124mSequence must have shape (T,\u001b[39m\u001b[38;5;132;01m{\u001b[39;00mn_features\u001b[38;5;132;01m}\u001b[39;00m\u001b[38;5;124m). Got \u001b[39m\u001b[38;5;132;01m{\u001b[39;00msequence\u001b[38;5;241m.\u001b[39mshape\u001b[38;5;132;01m}\u001b[39;00m\u001b[38;5;124m.\u001b[39m\u001b[38;5;124m'\u001b[39m)\n\u001b[1;32m    237\u001b[0m \u001b[38;5;28;01melse\u001b[39;00m:\n\u001b[1;32m    238\u001b[0m     \u001b[38;5;28;01mreturn\u001b[39;00m sequence\n",
      "\u001b[0;31mValueError\u001b[0m: Sequence must have shape (T,3). Got torch.Size([1000, 2])."
     ]
    }
   ],
   "source": [
    "gmm = GaussianMixtureModel(n_dims=1,\n",
    "                           n_components=3,\n",
    "                           n_features=2,\n",
    "                           seed=15,\n",
    "                           min_covar=1e-3,\n",
    "                           device=torch.device('cpu'))\n",
    "\n",
    "X = torch.rand(1000,2, dtype=torch.float64)\n",
    "mod = gmm.fit(X,max_iter=4,verbose=True)"
   ]
  },
  {
   "cell_type": "code",
   "execution_count": null,
   "metadata": {},
   "outputs": [],
   "source": []
  }
 ],
 "metadata": {
  "kernelspec": {
   "display_name": "hmm",
   "language": "python",
   "name": "python3"
  },
  "language_info": {
   "codemirror_mode": {
    "name": "ipython",
    "version": 3
   },
   "file_extension": ".py",
   "mimetype": "text/x-python",
   "name": "python",
   "nbconvert_exporter": "python",
   "pygments_lexer": "ipython3",
   "version": "3.8.16"
  }
 },
 "nbformat": 4,
 "nbformat_minor": 2
}
